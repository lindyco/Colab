{
  "nbformat": 4,
  "nbformat_minor": 0,
  "metadata": {
    "colab": {
      "name": "Iris.ipynb",
      "provenance": [],
      "authorship_tag": "ABX9TyMo/afg3lHsnAK2aUhtJN+d",
      "include_colab_link": true
    },
    "kernelspec": {
      "name": "python3",
      "display_name": "Python 3"
    }
  },
  "cells": [
    {
      "cell_type": "markdown",
      "metadata": {
        "id": "view-in-github",
        "colab_type": "text"
      },
      "source": [
        "<a href=\"https://colab.research.google.com/github/lindyco/Colab/blob/main/Iris.ipynb\" target=\"_parent\"><img src=\"https://colab.research.google.com/assets/colab-badge.svg\" alt=\"Open In Colab\"/></a>"
      ]
    },
    {
      "cell_type": "markdown",
      "metadata": {
        "id": "EwTGNWoOZohM"
      },
      "source": [
        "This is a simple program to train and test the data from Sklearn to predict the species of Iris.\n",
        "It implements the LogisticRegression model to training the data.\n",
        "The result of the prediction is 100% correct."
      ]
    },
    {
      "cell_type": "code",
      "metadata": {
        "id": "DPT8jmN2Fokm"
      },
      "source": [
        "# Import the library that I need\n",
        "import matplotlib.pyplot as plt\n",
        "import seaborn as sns\n",
        "from sklearn.metrics import classification_report\n",
        "from sklearn.metrics import accuracy_score\n",
        "from sklearn.model_selection import train_test_split\n",
        "from sklearn.datasets import load_iris\n",
        "import pandas as pd "
      ],
      "execution_count": 1,
      "outputs": []
    },
    {
      "cell_type": "code",
      "metadata": {
        "colab": {
          "base_uri": "https://localhost:8080/"
        },
        "id": "RnQNsnR7Io2Z",
        "outputId": "77d4e31c-69ff-47a0-9c61-face36b306e3"
      },
      "source": [
        "# Loading the data to X and y\n",
        "# Then I print the X and y out to see what is the data looks like\n",
        "X, y = load_iris(return_X_y=True)\n",
        "print(X)"
      ],
      "execution_count": 2,
      "outputs": [
        {
          "output_type": "stream",
          "text": [
            "[[5.1 3.5 1.4 0.2]\n",
            " [4.9 3.  1.4 0.2]\n",
            " [4.7 3.2 1.3 0.2]\n",
            " [4.6 3.1 1.5 0.2]\n",
            " [5.  3.6 1.4 0.2]\n",
            " [5.4 3.9 1.7 0.4]\n",
            " [4.6 3.4 1.4 0.3]\n",
            " [5.  3.4 1.5 0.2]\n",
            " [4.4 2.9 1.4 0.2]\n",
            " [4.9 3.1 1.5 0.1]\n",
            " [5.4 3.7 1.5 0.2]\n",
            " [4.8 3.4 1.6 0.2]\n",
            " [4.8 3.  1.4 0.1]\n",
            " [4.3 3.  1.1 0.1]\n",
            " [5.8 4.  1.2 0.2]\n",
            " [5.7 4.4 1.5 0.4]\n",
            " [5.4 3.9 1.3 0.4]\n",
            " [5.1 3.5 1.4 0.3]\n",
            " [5.7 3.8 1.7 0.3]\n",
            " [5.1 3.8 1.5 0.3]\n",
            " [5.4 3.4 1.7 0.2]\n",
            " [5.1 3.7 1.5 0.4]\n",
            " [4.6 3.6 1.  0.2]\n",
            " [5.1 3.3 1.7 0.5]\n",
            " [4.8 3.4 1.9 0.2]\n",
            " [5.  3.  1.6 0.2]\n",
            " [5.  3.4 1.6 0.4]\n",
            " [5.2 3.5 1.5 0.2]\n",
            " [5.2 3.4 1.4 0.2]\n",
            " [4.7 3.2 1.6 0.2]\n",
            " [4.8 3.1 1.6 0.2]\n",
            " [5.4 3.4 1.5 0.4]\n",
            " [5.2 4.1 1.5 0.1]\n",
            " [5.5 4.2 1.4 0.2]\n",
            " [4.9 3.1 1.5 0.2]\n",
            " [5.  3.2 1.2 0.2]\n",
            " [5.5 3.5 1.3 0.2]\n",
            " [4.9 3.6 1.4 0.1]\n",
            " [4.4 3.  1.3 0.2]\n",
            " [5.1 3.4 1.5 0.2]\n",
            " [5.  3.5 1.3 0.3]\n",
            " [4.5 2.3 1.3 0.3]\n",
            " [4.4 3.2 1.3 0.2]\n",
            " [5.  3.5 1.6 0.6]\n",
            " [5.1 3.8 1.9 0.4]\n",
            " [4.8 3.  1.4 0.3]\n",
            " [5.1 3.8 1.6 0.2]\n",
            " [4.6 3.2 1.4 0.2]\n",
            " [5.3 3.7 1.5 0.2]\n",
            " [5.  3.3 1.4 0.2]\n",
            " [7.  3.2 4.7 1.4]\n",
            " [6.4 3.2 4.5 1.5]\n",
            " [6.9 3.1 4.9 1.5]\n",
            " [5.5 2.3 4.  1.3]\n",
            " [6.5 2.8 4.6 1.5]\n",
            " [5.7 2.8 4.5 1.3]\n",
            " [6.3 3.3 4.7 1.6]\n",
            " [4.9 2.4 3.3 1. ]\n",
            " [6.6 2.9 4.6 1.3]\n",
            " [5.2 2.7 3.9 1.4]\n",
            " [5.  2.  3.5 1. ]\n",
            " [5.9 3.  4.2 1.5]\n",
            " [6.  2.2 4.  1. ]\n",
            " [6.1 2.9 4.7 1.4]\n",
            " [5.6 2.9 3.6 1.3]\n",
            " [6.7 3.1 4.4 1.4]\n",
            " [5.6 3.  4.5 1.5]\n",
            " [5.8 2.7 4.1 1. ]\n",
            " [6.2 2.2 4.5 1.5]\n",
            " [5.6 2.5 3.9 1.1]\n",
            " [5.9 3.2 4.8 1.8]\n",
            " [6.1 2.8 4.  1.3]\n",
            " [6.3 2.5 4.9 1.5]\n",
            " [6.1 2.8 4.7 1.2]\n",
            " [6.4 2.9 4.3 1.3]\n",
            " [6.6 3.  4.4 1.4]\n",
            " [6.8 2.8 4.8 1.4]\n",
            " [6.7 3.  5.  1.7]\n",
            " [6.  2.9 4.5 1.5]\n",
            " [5.7 2.6 3.5 1. ]\n",
            " [5.5 2.4 3.8 1.1]\n",
            " [5.5 2.4 3.7 1. ]\n",
            " [5.8 2.7 3.9 1.2]\n",
            " [6.  2.7 5.1 1.6]\n",
            " [5.4 3.  4.5 1.5]\n",
            " [6.  3.4 4.5 1.6]\n",
            " [6.7 3.1 4.7 1.5]\n",
            " [6.3 2.3 4.4 1.3]\n",
            " [5.6 3.  4.1 1.3]\n",
            " [5.5 2.5 4.  1.3]\n",
            " [5.5 2.6 4.4 1.2]\n",
            " [6.1 3.  4.6 1.4]\n",
            " [5.8 2.6 4.  1.2]\n",
            " [5.  2.3 3.3 1. ]\n",
            " [5.6 2.7 4.2 1.3]\n",
            " [5.7 3.  4.2 1.2]\n",
            " [5.7 2.9 4.2 1.3]\n",
            " [6.2 2.9 4.3 1.3]\n",
            " [5.1 2.5 3.  1.1]\n",
            " [5.7 2.8 4.1 1.3]\n",
            " [6.3 3.3 6.  2.5]\n",
            " [5.8 2.7 5.1 1.9]\n",
            " [7.1 3.  5.9 2.1]\n",
            " [6.3 2.9 5.6 1.8]\n",
            " [6.5 3.  5.8 2.2]\n",
            " [7.6 3.  6.6 2.1]\n",
            " [4.9 2.5 4.5 1.7]\n",
            " [7.3 2.9 6.3 1.8]\n",
            " [6.7 2.5 5.8 1.8]\n",
            " [7.2 3.6 6.1 2.5]\n",
            " [6.5 3.2 5.1 2. ]\n",
            " [6.4 2.7 5.3 1.9]\n",
            " [6.8 3.  5.5 2.1]\n",
            " [5.7 2.5 5.  2. ]\n",
            " [5.8 2.8 5.1 2.4]\n",
            " [6.4 3.2 5.3 2.3]\n",
            " [6.5 3.  5.5 1.8]\n",
            " [7.7 3.8 6.7 2.2]\n",
            " [7.7 2.6 6.9 2.3]\n",
            " [6.  2.2 5.  1.5]\n",
            " [6.9 3.2 5.7 2.3]\n",
            " [5.6 2.8 4.9 2. ]\n",
            " [7.7 2.8 6.7 2. ]\n",
            " [6.3 2.7 4.9 1.8]\n",
            " [6.7 3.3 5.7 2.1]\n",
            " [7.2 3.2 6.  1.8]\n",
            " [6.2 2.8 4.8 1.8]\n",
            " [6.1 3.  4.9 1.8]\n",
            " [6.4 2.8 5.6 2.1]\n",
            " [7.2 3.  5.8 1.6]\n",
            " [7.4 2.8 6.1 1.9]\n",
            " [7.9 3.8 6.4 2. ]\n",
            " [6.4 2.8 5.6 2.2]\n",
            " [6.3 2.8 5.1 1.5]\n",
            " [6.1 2.6 5.6 1.4]\n",
            " [7.7 3.  6.1 2.3]\n",
            " [6.3 3.4 5.6 2.4]\n",
            " [6.4 3.1 5.5 1.8]\n",
            " [6.  3.  4.8 1.8]\n",
            " [6.9 3.1 5.4 2.1]\n",
            " [6.7 3.1 5.6 2.4]\n",
            " [6.9 3.1 5.1 2.3]\n",
            " [5.8 2.7 5.1 1.9]\n",
            " [6.8 3.2 5.9 2.3]\n",
            " [6.7 3.3 5.7 2.5]\n",
            " [6.7 3.  5.2 2.3]\n",
            " [6.3 2.5 5.  1.9]\n",
            " [6.5 3.  5.2 2. ]\n",
            " [6.2 3.4 5.4 2.3]\n",
            " [5.9 3.  5.1 1.8]]\n"
          ],
          "name": "stdout"
        }
      ]
    },
    {
      "cell_type": "code",
      "metadata": {
        "colab": {
          "base_uri": "https://localhost:8080/"
        },
        "id": "4U2HTNduKLLm",
        "outputId": "a5f6d6fc-bed8-4d15-ea68-f1679ba3e542"
      },
      "source": [
        "print(y)"
      ],
      "execution_count": 3,
      "outputs": [
        {
          "output_type": "stream",
          "text": [
            "[0 0 0 0 0 0 0 0 0 0 0 0 0 0 0 0 0 0 0 0 0 0 0 0 0 0 0 0 0 0 0 0 0 0 0 0 0\n",
            " 0 0 0 0 0 0 0 0 0 0 0 0 0 1 1 1 1 1 1 1 1 1 1 1 1 1 1 1 1 1 1 1 1 1 1 1 1\n",
            " 1 1 1 1 1 1 1 1 1 1 1 1 1 1 1 1 1 1 1 1 1 1 1 1 1 1 2 2 2 2 2 2 2 2 2 2 2\n",
            " 2 2 2 2 2 2 2 2 2 2 2 2 2 2 2 2 2 2 2 2 2 2 2 2 2 2 2 2 2 2 2 2 2 2 2 2 2\n",
            " 2 2]\n"
          ],
          "name": "stdout"
        }
      ]
    },
    {
      "cell_type": "markdown",
      "metadata": {
        "id": "cpn-YUlmKXEk"
      },
      "source": [
        "In this case, print data doesn't tell me what is each column or rows mean, therefore, I use seaborn to load the dataset to define a proper ordering for categorical variables."
      ]
    },
    {
      "cell_type": "code",
      "metadata": {
        "colab": {
          "base_uri": "https://localhost:8080/"
        },
        "id": "gpG8xRbsQfSS",
        "outputId": "58a7794c-c92b-4f7d-f7c7-8388073b2ab3"
      },
      "source": [
        "data = sns.load_dataset('iris')\n",
        "data.head()\n",
        "print(data)"
      ],
      "execution_count": 4,
      "outputs": [
        {
          "output_type": "stream",
          "text": [
            "     sepal_length  sepal_width  petal_length  petal_width    species\n",
            "0             5.1          3.5           1.4          0.2     setosa\n",
            "1             4.9          3.0           1.4          0.2     setosa\n",
            "2             4.7          3.2           1.3          0.2     setosa\n",
            "3             4.6          3.1           1.5          0.2     setosa\n",
            "4             5.0          3.6           1.4          0.2     setosa\n",
            "..            ...          ...           ...          ...        ...\n",
            "145           6.7          3.0           5.2          2.3  virginica\n",
            "146           6.3          2.5           5.0          1.9  virginica\n",
            "147           6.5          3.0           5.2          2.0  virginica\n",
            "148           6.2          3.4           5.4          2.3  virginica\n",
            "149           5.9          3.0           5.1          1.8  virginica\n",
            "\n",
            "[150 rows x 5 columns]\n"
          ],
          "name": "stdout"
        }
      ]
    },
    {
      "cell_type": "markdown",
      "metadata": {
        "id": "LHwX9M0XPOeR"
      },
      "source": [
        "After I print the dataset, and compare to the X and y I have before, X include column sepal_length, sepal_width, petal_length and petal_, which is everything expect the lats column.\n",
        "y should be corresponde to different sepecis, there are three number, 0, 1 and 2, but we only see two species, so I implement pandas to see the middle of the row."
      ]
    },
    {
      "cell_type": "code",
      "metadata": {
        "colab": {
          "base_uri": "https://localhost:8080/",
          "height": 669
        },
        "id": "X6KS6EOZNmL_",
        "outputId": "fdc1dcfe-4543-4cdd-cda2-cbf3e604dfad"
      },
      "source": [
        "df = pd.DataFrame(data)\n",
        "display(df.iloc[40:60]) "
      ],
      "execution_count": 5,
      "outputs": [
        {
          "output_type": "display_data",
          "data": {
            "text/html": [
              "<div>\n",
              "<style scoped>\n",
              "    .dataframe tbody tr th:only-of-type {\n",
              "        vertical-align: middle;\n",
              "    }\n",
              "\n",
              "    .dataframe tbody tr th {\n",
              "        vertical-align: top;\n",
              "    }\n",
              "\n",
              "    .dataframe thead th {\n",
              "        text-align: right;\n",
              "    }\n",
              "</style>\n",
              "<table border=\"1\" class=\"dataframe\">\n",
              "  <thead>\n",
              "    <tr style=\"text-align: right;\">\n",
              "      <th></th>\n",
              "      <th>sepal_length</th>\n",
              "      <th>sepal_width</th>\n",
              "      <th>petal_length</th>\n",
              "      <th>petal_width</th>\n",
              "      <th>species</th>\n",
              "    </tr>\n",
              "  </thead>\n",
              "  <tbody>\n",
              "    <tr>\n",
              "      <th>40</th>\n",
              "      <td>5.0</td>\n",
              "      <td>3.5</td>\n",
              "      <td>1.3</td>\n",
              "      <td>0.3</td>\n",
              "      <td>setosa</td>\n",
              "    </tr>\n",
              "    <tr>\n",
              "      <th>41</th>\n",
              "      <td>4.5</td>\n",
              "      <td>2.3</td>\n",
              "      <td>1.3</td>\n",
              "      <td>0.3</td>\n",
              "      <td>setosa</td>\n",
              "    </tr>\n",
              "    <tr>\n",
              "      <th>42</th>\n",
              "      <td>4.4</td>\n",
              "      <td>3.2</td>\n",
              "      <td>1.3</td>\n",
              "      <td>0.2</td>\n",
              "      <td>setosa</td>\n",
              "    </tr>\n",
              "    <tr>\n",
              "      <th>43</th>\n",
              "      <td>5.0</td>\n",
              "      <td>3.5</td>\n",
              "      <td>1.6</td>\n",
              "      <td>0.6</td>\n",
              "      <td>setosa</td>\n",
              "    </tr>\n",
              "    <tr>\n",
              "      <th>44</th>\n",
              "      <td>5.1</td>\n",
              "      <td>3.8</td>\n",
              "      <td>1.9</td>\n",
              "      <td>0.4</td>\n",
              "      <td>setosa</td>\n",
              "    </tr>\n",
              "    <tr>\n",
              "      <th>45</th>\n",
              "      <td>4.8</td>\n",
              "      <td>3.0</td>\n",
              "      <td>1.4</td>\n",
              "      <td>0.3</td>\n",
              "      <td>setosa</td>\n",
              "    </tr>\n",
              "    <tr>\n",
              "      <th>46</th>\n",
              "      <td>5.1</td>\n",
              "      <td>3.8</td>\n",
              "      <td>1.6</td>\n",
              "      <td>0.2</td>\n",
              "      <td>setosa</td>\n",
              "    </tr>\n",
              "    <tr>\n",
              "      <th>47</th>\n",
              "      <td>4.6</td>\n",
              "      <td>3.2</td>\n",
              "      <td>1.4</td>\n",
              "      <td>0.2</td>\n",
              "      <td>setosa</td>\n",
              "    </tr>\n",
              "    <tr>\n",
              "      <th>48</th>\n",
              "      <td>5.3</td>\n",
              "      <td>3.7</td>\n",
              "      <td>1.5</td>\n",
              "      <td>0.2</td>\n",
              "      <td>setosa</td>\n",
              "    </tr>\n",
              "    <tr>\n",
              "      <th>49</th>\n",
              "      <td>5.0</td>\n",
              "      <td>3.3</td>\n",
              "      <td>1.4</td>\n",
              "      <td>0.2</td>\n",
              "      <td>setosa</td>\n",
              "    </tr>\n",
              "    <tr>\n",
              "      <th>50</th>\n",
              "      <td>7.0</td>\n",
              "      <td>3.2</td>\n",
              "      <td>4.7</td>\n",
              "      <td>1.4</td>\n",
              "      <td>versicolor</td>\n",
              "    </tr>\n",
              "    <tr>\n",
              "      <th>51</th>\n",
              "      <td>6.4</td>\n",
              "      <td>3.2</td>\n",
              "      <td>4.5</td>\n",
              "      <td>1.5</td>\n",
              "      <td>versicolor</td>\n",
              "    </tr>\n",
              "    <tr>\n",
              "      <th>52</th>\n",
              "      <td>6.9</td>\n",
              "      <td>3.1</td>\n",
              "      <td>4.9</td>\n",
              "      <td>1.5</td>\n",
              "      <td>versicolor</td>\n",
              "    </tr>\n",
              "    <tr>\n",
              "      <th>53</th>\n",
              "      <td>5.5</td>\n",
              "      <td>2.3</td>\n",
              "      <td>4.0</td>\n",
              "      <td>1.3</td>\n",
              "      <td>versicolor</td>\n",
              "    </tr>\n",
              "    <tr>\n",
              "      <th>54</th>\n",
              "      <td>6.5</td>\n",
              "      <td>2.8</td>\n",
              "      <td>4.6</td>\n",
              "      <td>1.5</td>\n",
              "      <td>versicolor</td>\n",
              "    </tr>\n",
              "    <tr>\n",
              "      <th>55</th>\n",
              "      <td>5.7</td>\n",
              "      <td>2.8</td>\n",
              "      <td>4.5</td>\n",
              "      <td>1.3</td>\n",
              "      <td>versicolor</td>\n",
              "    </tr>\n",
              "    <tr>\n",
              "      <th>56</th>\n",
              "      <td>6.3</td>\n",
              "      <td>3.3</td>\n",
              "      <td>4.7</td>\n",
              "      <td>1.6</td>\n",
              "      <td>versicolor</td>\n",
              "    </tr>\n",
              "    <tr>\n",
              "      <th>57</th>\n",
              "      <td>4.9</td>\n",
              "      <td>2.4</td>\n",
              "      <td>3.3</td>\n",
              "      <td>1.0</td>\n",
              "      <td>versicolor</td>\n",
              "    </tr>\n",
              "    <tr>\n",
              "      <th>58</th>\n",
              "      <td>6.6</td>\n",
              "      <td>2.9</td>\n",
              "      <td>4.6</td>\n",
              "      <td>1.3</td>\n",
              "      <td>versicolor</td>\n",
              "    </tr>\n",
              "    <tr>\n",
              "      <th>59</th>\n",
              "      <td>5.2</td>\n",
              "      <td>2.7</td>\n",
              "      <td>3.9</td>\n",
              "      <td>1.4</td>\n",
              "      <td>versicolor</td>\n",
              "    </tr>\n",
              "  </tbody>\n",
              "</table>\n",
              "</div>"
            ],
            "text/plain": [
              "    sepal_length  sepal_width  petal_length  petal_width     species\n",
              "40           5.0          3.5           1.3          0.3      setosa\n",
              "41           4.5          2.3           1.3          0.3      setosa\n",
              "42           4.4          3.2           1.3          0.2      setosa\n",
              "43           5.0          3.5           1.6          0.6      setosa\n",
              "44           5.1          3.8           1.9          0.4      setosa\n",
              "45           4.8          3.0           1.4          0.3      setosa\n",
              "46           5.1          3.8           1.6          0.2      setosa\n",
              "47           4.6          3.2           1.4          0.2      setosa\n",
              "48           5.3          3.7           1.5          0.2      setosa\n",
              "49           5.0          3.3           1.4          0.2      setosa\n",
              "50           7.0          3.2           4.7          1.4  versicolor\n",
              "51           6.4          3.2           4.5          1.5  versicolor\n",
              "52           6.9          3.1           4.9          1.5  versicolor\n",
              "53           5.5          2.3           4.0          1.3  versicolor\n",
              "54           6.5          2.8           4.6          1.5  versicolor\n",
              "55           5.7          2.8           4.5          1.3  versicolor\n",
              "56           6.3          3.3           4.7          1.6  versicolor\n",
              "57           4.9          2.4           3.3          1.0  versicolor\n",
              "58           6.6          2.9           4.6          1.3  versicolor\n",
              "59           5.2          2.7           3.9          1.4  versicolor"
            ]
          },
          "metadata": {
            "tags": []
          }
        }
      ]
    },
    {
      "cell_type": "markdown",
      "metadata": {
        "id": "FUIAfeWhMe_X"
      },
      "source": [
        "Base on the information, 0 = setosa, 1 = versicolor, and 2 = virginica in y"
      ]
    },
    {
      "cell_type": "code",
      "metadata": {
        "colab": {
          "base_uri": "https://localhost:8080/",
          "height": 300
        },
        "id": "C1PdFa0uKmxZ",
        "outputId": "133460e4-e973-414c-9539-bdfba548b6b5"
      },
      "source": [
        "# After get to knowing this data, I start to make plot to represent the relationship between each feature and species\n",
        "# X as my feature, and the y is sepcies like itself\n",
        "plt.xlabel(\"Feature\")\n",
        "plt.ylabel(\"Sepcies\")"
      ],
      "execution_count": 6,
      "outputs": [
        {
          "output_type": "execute_result",
          "data": {
            "text/plain": [
              "Text(0, 0.5, 'Sepcies')"
            ]
          },
          "metadata": {
            "tags": []
          },
          "execution_count": 6
        },
        {
          "output_type": "display_data",
          "data": {
            "image/png": "[encoded data removed]",
            "text/plain": [
              "<Figure size 432x288 with 1 Axes>"
            ]
          },
          "metadata": {
            "tags": [],
            "needs_background": "light"
          }
        }
      ]
    },
    {
      "cell_type": "code",
      "metadata": {
        "id": "pCQhrJMoKocP",
        "colab": {
          "base_uri": "https://localhost:8080/",
          "height": 265
        },
        "outputId": "f56db1f6-2b44-427a-b92b-f695107ade3c"
      },
      "source": [
        "# Import the data to the plot\n",
        "# Each feature is corresponde to different sepcies\n",
        "# And I used scatter for the plot\n",
        "\n",
        "pltX = data.loc[:,'sepal_length']\n",
        "pltY = data.loc[:, 'species']\n",
        "plt.scatter(pltX, pltY, color = 'black', Label = 'sepal_length')\n",
        "\n",
        "pltX = data.loc[:,'sepal_width']\n",
        "pltY = data.loc[:, 'species']\n",
        "plt.scatter(pltX, pltY, color = 'green', Label = 'sepal_width')\n",
        "\n",
        "pltX = data.loc[:,'petal_length']\n",
        "pltY = data.loc[:, 'species']\n",
        "plt.scatter(pltX, pltY, color = 'orange', Label = 'petal_length')\n",
        "\n",
        "pltX = data.loc[:,'petal_width']\n",
        "pltY = data.loc[:, 'species']\n",
        "plt.scatter(pltX, pltY, color = 'purple', Label = 'petal_width')\n",
        "\n",
        "plt.legend(loc=4, prop={'size':8})\n",
        "plt.show()"
      ],
      "execution_count": 7,
      "outputs": [
        {
          "output_type": "display_data",
          "data": {
            "image/png": "[encoded data removed]",
            "text/plain": [
              "<Figure size 432x288 with 1 Axes>"
            ]
          },
          "metadata": {
            "tags": [],
            "needs_background": "light"
          }
        }
      ]
    },
    {
      "cell_type": "markdown",
      "metadata": {
        "id": "UB3nnUarV2rJ"
      },
      "source": [
        "The grapy shows the relationship between sepcies and features include sepal_length, sepal_width, petal_length and petal_width.\n",
        "\n",
        "The next step is build up the model to train data and test data\n",
        "I set 80% data to training and 20% to testing"
      ]
    },
    {
      "cell_type": "code",
      "metadata": {
        "id": "f165-L5gKie4"
      },
      "source": [
        "x_train, x_test, y_train, y_test = train_test_split(X,y, test_size=0.2, random_state=42)\n"
      ],
      "execution_count": 8,
      "outputs": []
    },
    {
      "cell_type": "markdown",
      "metadata": {
        "id": "gKW9t4sMiD_N"
      },
      "source": [
        "Build the model with Logistic Regression."
      ]
    },
    {
      "cell_type": "code",
      "metadata": {
        "id": "Psz6QSfqiYnX"
      },
      "source": [
        "#Import the library that I need for logistic regression.\n",
        "from sklearn.linear_model import LogisticRegression"
      ],
      "execution_count": 9,
      "outputs": []
    },
    {
      "cell_type": "code",
      "metadata": {
        "id": "zGb3KlhMI5zC",
        "colab": {
          "base_uri": "https://localhost:8080/"
        },
        "outputId": "63354eea-80df-435a-afef-113fd78e27e0"
      },
      "source": [
        "#Trainning and teesting data\n",
        "model = LogisticRegression()\n",
        "model.fit(x_train, y_train)\n",
        "predictions = model.predict(x_test)\n",
        "print(predictions)"
      ],
      "execution_count": 10,
      "outputs": [
        {
          "output_type": "stream",
          "text": [
            "[1 0 2 1 1 0 1 2 1 1 2 0 0 0 0 1 2 1 1 2 0 2 0 2 2 2 2 2 0 0]\n"
          ],
          "name": "stdout"
        },
        {
          "output_type": "stream",
          "text": [
            "/usr/local/lib/python3.6/dist-packages/sklearn/linear_model/_logistic.py:940: ConvergenceWarning: lbfgs failed to converge (status=1):\n",
            "STOP: TOTAL NO. of ITERATIONS REACHED LIMIT.\n",
            "\n",
            "Increase the number of iterations (max_iter) or scale the data as shown in:\n",
            "    https://scikit-learn.org/stable/modules/preprocessing.html\n",
            "Please also refer to the documentation for alternative solver options:\n",
            "    https://scikit-learn.org/stable/modules/linear_model.html#logistic-regression\n",
            "  extra_warning_msg=_LOGISTIC_SOLVER_CONVERGENCE_MSG)\n"
          ],
          "name": "stderr"
        }
      ]
    },
    {
      "cell_type": "markdown",
      "metadata": {
        "id": "d1EGQK2bg4PO"
      },
      "source": [
        "This list is the result of prediction\n",
        "Now, I want to see how precise and accurate it is"
      ]
    },
    {
      "cell_type": "code",
      "metadata": {
        "colab": {
          "base_uri": "https://localhost:8080/"
        },
        "id": "baHbMLR8fR4N",
        "outputId": "8977c2f3-10f3-446d-c1a1-e0dd22612640"
      },
      "source": [
        "print(classification_report(y_test, predictions))"
      ],
      "execution_count": 11,
      "outputs": [
        {
          "output_type": "stream",
          "text": [
            "              precision    recall  f1-score   support\n",
            "\n",
            "           0       1.00      1.00      1.00        10\n",
            "           1       1.00      1.00      1.00         9\n",
            "           2       1.00      1.00      1.00        11\n",
            "\n",
            "    accuracy                           1.00        30\n",
            "   macro avg       1.00      1.00      1.00        30\n",
            "weighted avg       1.00      1.00      1.00        30\n",
            "\n"
          ],
          "name": "stdout"
        }
      ]
    },
    {
      "cell_type": "markdown",
      "metadata": {
        "id": "myJyDgZEhb6a"
      },
      "source": [
        "From this report, the precision, accuracy, recall so on are 1.00, whcih means, there is 100% crorrect for the prediction hit the target."
      ]
    },
    {
      "cell_type": "markdown",
      "metadata": {
        "id": "VxETHG2zibs_"
      },
      "source": [
        "---------------------------------------------------------------------------------"
      ]
    },
    {
      "cell_type": "markdown",
      "metadata": {
        "id": "kpgI51d8icRG"
      },
      "source": [
        "Build model with linear Regression."
      ]
    },
    {
      "cell_type": "code",
      "metadata": {
        "id": "QklsduiIiojL"
      },
      "source": [
        "# Import the Library that I need.\n",
        "\n",
        "from sklearn import linear_model\n",
        "from sklearn.metrics import mean_squared_error, r2_score\n"
      ],
      "execution_count": 12,
      "outputs": []
    },
    {
      "cell_type": "code",
      "metadata": {
        "id": "ixgWoh50jYfu"
      },
      "source": [
        "model_Linear = linear_model.LinearRegression()"
      ],
      "execution_count": 13,
      "outputs": []
    },
    {
      "cell_type": "code",
      "metadata": {
        "colab": {
          "base_uri": "https://localhost:8080/"
        },
        "id": "G6__ume3jzGv",
        "outputId": "685183a0-5c56-4148-b37a-07a5d502c35d"
      },
      "source": [
        "# Fitting the model with trainning data\n",
        "model_Linear.fit(x_train, y_train)"
      ],
      "execution_count": 14,
      "outputs": [
        {
          "output_type": "execute_result",
          "data": {
            "text/plain": [
              "LinearRegression(copy_X=True, fit_intercept=True, n_jobs=None, normalize=False)"
            ]
          },
          "metadata": {
            "tags": []
          },
          "execution_count": 14
        }
      ]
    },
    {
      "cell_type": "code",
      "metadata": {
        "colab": {
          "base_uri": "https://localhost:8080/"
        },
        "id": "f47Y6i3ukFA9",
        "outputId": "18fe1cec-3075-4ec9-9ac4-39649a94332e"
      },
      "source": [
        "# Now we can make the prediction by this linear Regression model\n",
        "predictions_Linear = model_Linear.predict(x_test)\n",
        "print(predictions_Linear)"
      ],
      "execution_count": 15,
      "outputs": [
        {
          "output_type": "stream",
          "text": [
            "[ 1.23071715 -0.04010441  2.21970287  1.34966889  1.28429336  0.02248402\n",
            "  1.05726124  1.82403704  1.36824643  1.06766437  1.70031437 -0.07357413\n",
            " -0.15562919 -0.06569402 -0.02128628  1.39659966  2.00022876  1.04812731\n",
            "  1.28102792  1.97283506  0.03184612  1.59830192  0.09450931  1.91807547\n",
            "  1.83296682  1.87877315  1.78781234  2.03362373  0.03594506  0.02619043]\n"
          ],
          "name": "stdout"
        }
      ]
    },
    {
      "cell_type": "markdown",
      "metadata": {
        "id": "L-_Uu8cOkpkg"
      },
      "source": [
        "Compare the predictions between the linear regression and logistic regression, One is ouput floating point and the other is ouput the integer.\n",
        "[1 0 2 1 1 0 1 2 1 1 2 0 0 0 0 1 2 1 1 2 0 2 0 2 2 2 2 2 0 0]( Result of logistic regression)"
      ]
    },
    {
      "cell_type": "code",
      "metadata": {
        "colab": {
          "base_uri": "https://localhost:8080/"
        },
        "id": "lNqnxBCalAtZ",
        "outputId": "56db59cc-91e6-465c-cf75-212402eb046e"
      },
      "source": [
        "# Now I want to see how the performance of this linear regression\n",
        "print(\"coefficients: \", model_Linear.coef_)\n",
        "print(\"Intercept: \",model.intercept_ )\n",
        "print(\"Mean squared error (MSE): %.2f\" % mean_squared_error(y_test, predictions_Linear))\n",
        "print(\"Coefficients of determination (R^2): %.2f\" % r2_score(y_test, predictions_Linear))"
      ],
      "execution_count": 16,
      "outputs": [
        {
          "output_type": "stream",
          "text": [
            "coefficients:  [-0.11633479 -0.05977785  0.25491375  0.54759598]\n",
            "Intercept:  [  9.0318585    1.84092358 -10.87278208]\n",
            "Mean squared error (MSE): 0.04\n",
            "Coefficients of determination (R^2): 0.95\n"
          ],
          "name": "stdout"
        }
      ]
    },
    {
      "cell_type": "markdown",
      "metadata": {
        "id": "-1wIkQIHslLD"
      },
      "source": [
        "From this performance, the model is good for prediction, the mean square error is 0.04(The smaller the means squared error, the closer you are to finding the line of best fit).\n",
        "And the coefficients of determination is 0.95(Generally, a higher coefficient indicates a better fit for the model).\n",
        "However, the result is formatting by floating point, it is less clear and visual compare to logistic regression."
      ]
    },
    {
      "cell_type": "markdown",
      "metadata": {
        "id": "DJXLIULgtjAR"
      },
      "source": [
        "--------------------------------------------------------------------------------\n"
      ]
    },
    {
      "cell_type": "markdown",
      "metadata": {
        "id": "S1JGzJbEuVU0"
      },
      "source": [
        "Build model with Neural Network"
      ]
    },
    {
      "cell_type": "markdown",
      "metadata": {
        "id": "ZzRIEPgYhp1J"
      },
      "source": [
        "Import the library that Neural Network model needs"
      ]
    },
    {
      "cell_type": "code",
      "metadata": {
        "id": "1XZuR9Bstne0"
      },
      "source": [
        "from tensorflow import keras\n",
        "from keras.models import Sequential\n",
        "from keras.layers import Dense\n",
        "from keras.utils import to_categorical\n",
        "from sklearn import preprocessing"
      ],
      "execution_count": 17,
      "outputs": []
    },
    {
      "cell_type": "code",
      "metadata": {
        "id": "cYQAeJ_os42H"
      },
      "source": [
        "# Redefine and split the data\n",
        "iris = load_iris()\n",
        "x_Neural = iris['data']\n",
        "y_Neural = to_categorical(iris['target'])\n",
        "x_train, x_test, y_train, y_test = train_test_split(x_Neural, y_Neural, test_size=0.2, random_state=42)"
      ],
      "execution_count": 19,
      "outputs": []
    },
    {
      "cell_type": "code",
      "metadata": {
        "id": "XLjTI7_Rm3ph"
      },
      "source": [
        "model_Neural = Sequential()\n",
        "\n",
        "# Add layout,\n",
        "# Since we have 4 different attribute,input dimemtion is 4 and use rectified linear unit activation function(relu) and softmax function.\n",
        "\n",
        "model_Neural.add(Dense(6, input_dim = 4, activation='relu'))\n",
        "model_Neural.add(Dense(3, activation='softmax'))\n",
        "model_Neural.compile(loss='categorical_crossentropy', optimizer = 'adam', metrics=['accuracy'])"
      ],
      "execution_count": 23,
      "outputs": []
    },
    {
      "cell_type": "code",
      "metadata": {
        "colab": {
          "base_uri": "https://localhost:8080/"
        },
        "id": "a-5Url8arMRI",
        "outputId": "1cf93c3a-2fa8-43b1-b99e-ffce265934d1"
      },
      "source": [
        "#fitting the model\n",
        "model_Neural.fit(x_train, y_train, validation_data=(x_test, y_test), epochs = 200, batch_size = 10)"
      ],
      "execution_count": 24,
      "outputs": [
        {
          "output_type": "stream",
          "text": [
            "Epoch 1/200\n",
            "12/12 [==============================] - 0s 14ms/step - loss: 2.7536 - accuracy: 0.2671 - val_loss: 2.4143 - val_accuracy: 0.3000\n",
            "Epoch 2/200\n",
            "12/12 [==============================] - 0s 3ms/step - loss: 1.6902 - accuracy: 0.4460 - val_loss: 2.1064 - val_accuracy: 0.3000\n",
            "Epoch 3/200\n",
            "12/12 [==============================] - 0s 3ms/step - loss: 1.9831 - accuracy: 0.3074 - val_loss: 1.8419 - val_accuracy: 0.4333\n",
            "Epoch 4/200\n",
            "12/12 [==============================] - 0s 5ms/step - loss: 1.6809 - accuracy: 0.5035 - val_loss: 1.6195 - val_accuracy: 0.6333\n",
            "Epoch 5/200\n",
            "12/12 [==============================] - 0s 3ms/step - loss: 1.4435 - accuracy: 0.6564 - val_loss: 1.4247 - val_accuracy: 0.6333\n",
            "Epoch 6/200\n",
            "12/12 [==============================] - 0s 4ms/step - loss: 1.2593 - accuracy: 0.6669 - val_loss: 1.2393 - val_accuracy: 0.6333\n",
            "Epoch 7/200\n",
            "12/12 [==============================] - 0s 3ms/step - loss: 1.1542 - accuracy: 0.6411 - val_loss: 1.0751 - val_accuracy: 0.6333\n",
            "Epoch 8/200\n",
            "12/12 [==============================] - 0s 3ms/step - loss: 0.9450 - accuracy: 0.6847 - val_loss: 0.9414 - val_accuracy: 0.6333\n",
            "Epoch 9/200\n",
            "12/12 [==============================] - 0s 3ms/step - loss: 0.8411 - accuracy: 0.6873 - val_loss: 0.8386 - val_accuracy: 0.6333\n",
            "Epoch 10/200\n",
            "12/12 [==============================] - 0s 3ms/step - loss: 0.7744 - accuracy: 0.6820 - val_loss: 0.7656 - val_accuracy: 0.6333\n",
            "Epoch 11/200\n",
            "12/12 [==============================] - 0s 4ms/step - loss: 0.7339 - accuracy: 0.6667 - val_loss: 0.7150 - val_accuracy: 0.6333\n",
            "Epoch 12/200\n",
            "12/12 [==============================] - 0s 4ms/step - loss: 0.7004 - accuracy: 0.6785 - val_loss: 0.6852 - val_accuracy: 0.8333\n",
            "Epoch 13/200\n",
            "12/12 [==============================] - 0s 12ms/step - loss: 0.6709 - accuracy: 0.8311 - val_loss: 0.6711 - val_accuracy: 0.7667\n",
            "Epoch 14/200\n",
            "12/12 [==============================] - 0s 3ms/step - loss: 0.6688 - accuracy: 0.8407 - val_loss: 0.6620 - val_accuracy: 0.8000\n",
            "Epoch 15/200\n",
            "12/12 [==============================] - 0s 3ms/step - loss: 0.6551 - accuracy: 0.8425 - val_loss: 0.6518 - val_accuracy: 0.8000\n",
            "Epoch 16/200\n",
            "12/12 [==============================] - 0s 3ms/step - loss: 0.6232 - accuracy: 0.8314 - val_loss: 0.6437 - val_accuracy: 0.8000\n",
            "Epoch 17/200\n",
            "12/12 [==============================] - 0s 4ms/step - loss: 0.6037 - accuracy: 0.8328 - val_loss: 0.6338 - val_accuracy: 0.7667\n",
            "Epoch 18/200\n",
            "12/12 [==============================] - 0s 3ms/step - loss: 0.6434 - accuracy: 0.8049 - val_loss: 0.6287 - val_accuracy: 0.7667\n",
            "Epoch 19/200\n",
            "12/12 [==============================] - 0s 3ms/step - loss: 0.6251 - accuracy: 0.8373 - val_loss: 0.6221 - val_accuracy: 0.7667\n",
            "Epoch 20/200\n",
            "12/12 [==============================] - 0s 3ms/step - loss: 0.5831 - accuracy: 0.8301 - val_loss: 0.6155 - val_accuracy: 0.7667\n",
            "Epoch 21/200\n",
            "12/12 [==============================] - 0s 3ms/step - loss: 0.5987 - accuracy: 0.8148 - val_loss: 0.6128 - val_accuracy: 0.8000\n",
            "Epoch 22/200\n",
            "12/12 [==============================] - 0s 3ms/step - loss: 0.5877 - accuracy: 0.8430 - val_loss: 0.6027 - val_accuracy: 0.7667\n",
            "Epoch 23/200\n",
            "12/12 [==============================] - 0s 3ms/step - loss: 0.6044 - accuracy: 0.8188 - val_loss: 0.5974 - val_accuracy: 0.8000\n",
            "Epoch 24/200\n",
            "12/12 [==============================] - 0s 3ms/step - loss: 0.5970 - accuracy: 0.8375 - val_loss: 0.5940 - val_accuracy: 0.8000\n",
            "Epoch 25/200\n",
            "12/12 [==============================] - 0s 3ms/step - loss: 0.5938 - accuracy: 0.8101 - val_loss: 0.5836 - val_accuracy: 0.7667\n",
            "Epoch 26/200\n",
            "12/12 [==============================] - 0s 4ms/step - loss: 0.5662 - accuracy: 0.8027 - val_loss: 0.5820 - val_accuracy: 0.8000\n",
            "Epoch 27/200\n",
            "12/12 [==============================] - 0s 4ms/step - loss: 0.5499 - accuracy: 0.8202 - val_loss: 0.5745 - val_accuracy: 0.8000\n",
            "Epoch 28/200\n",
            "12/12 [==============================] - 0s 3ms/step - loss: 0.5904 - accuracy: 0.7728 - val_loss: 0.5695 - val_accuracy: 0.8000\n",
            "Epoch 29/200\n",
            "12/12 [==============================] - 0s 3ms/step - loss: 0.5385 - accuracy: 0.8455 - val_loss: 0.5648 - val_accuracy: 0.8000\n",
            "Epoch 30/200\n",
            "12/12 [==============================] - 0s 3ms/step - loss: 0.5599 - accuracy: 0.8627 - val_loss: 0.5569 - val_accuracy: 0.7667\n",
            "Epoch 31/200\n",
            "12/12 [==============================] - 0s 3ms/step - loss: 0.5517 - accuracy: 0.8071 - val_loss: 0.5545 - val_accuracy: 0.8000\n",
            "Epoch 32/200\n",
            "12/12 [==============================] - 0s 4ms/step - loss: 0.4958 - accuracy: 0.9023 - val_loss: 0.5501 - val_accuracy: 0.8000\n",
            "Epoch 33/200\n",
            "12/12 [==============================] - 0s 4ms/step - loss: 0.5112 - accuracy: 0.8560 - val_loss: 0.5439 - val_accuracy: 0.8000\n",
            "Epoch 34/200\n",
            "12/12 [==============================] - 0s 3ms/step - loss: 0.5554 - accuracy: 0.8146 - val_loss: 0.5430 - val_accuracy: 0.8000\n",
            "Epoch 35/200\n",
            "12/12 [==============================] - 0s 4ms/step - loss: 0.5510 - accuracy: 0.8448 - val_loss: 0.5380 - val_accuracy: 0.8000\n",
            "Epoch 36/200\n",
            "12/12 [==============================] - 0s 3ms/step - loss: 0.5217 - accuracy: 0.8443 - val_loss: 0.5332 - val_accuracy: 0.8000\n",
            "Epoch 37/200\n",
            "12/12 [==============================] - 0s 3ms/step - loss: 0.4838 - accuracy: 0.8697 - val_loss: 0.5289 - val_accuracy: 0.8000\n",
            "Epoch 38/200\n",
            "12/12 [==============================] - 0s 3ms/step - loss: 0.5011 - accuracy: 0.8892 - val_loss: 0.5230 - val_accuracy: 0.8000\n",
            "Epoch 39/200\n",
            "12/12 [==============================] - 0s 3ms/step - loss: 0.5065 - accuracy: 0.8409 - val_loss: 0.5218 - val_accuracy: 0.8000\n",
            "Epoch 40/200\n",
            "12/12 [==============================] - 0s 3ms/step - loss: 0.5419 - accuracy: 0.8416 - val_loss: 0.5153 - val_accuracy: 0.8000\n",
            "Epoch 41/200\n",
            "12/12 [==============================] - 0s 3ms/step - loss: 0.4881 - accuracy: 0.8510 - val_loss: 0.5115 - val_accuracy: 0.8000\n",
            "Epoch 42/200\n",
            "12/12 [==============================] - 0s 4ms/step - loss: 0.5152 - accuracy: 0.8524 - val_loss: 0.5084 - val_accuracy: 0.8000\n",
            "Epoch 43/200\n",
            "12/12 [==============================] - 0s 4ms/step - loss: 0.5038 - accuracy: 0.9062 - val_loss: 0.5047 - val_accuracy: 0.8000\n",
            "Epoch 44/200\n",
            "12/12 [==============================] - 0s 3ms/step - loss: 0.4915 - accuracy: 0.8858 - val_loss: 0.5015 - val_accuracy: 0.8000\n",
            "Epoch 45/200\n",
            "12/12 [==============================] - 0s 3ms/step - loss: 0.5217 - accuracy: 0.8412 - val_loss: 0.4991 - val_accuracy: 0.8000\n",
            "Epoch 46/200\n",
            "12/12 [==============================] - 0s 3ms/step - loss: 0.4713 - accuracy: 0.8665 - val_loss: 0.4964 - val_accuracy: 0.8000\n",
            "Epoch 47/200\n",
            "12/12 [==============================] - 0s 3ms/step - loss: 0.5113 - accuracy: 0.8579 - val_loss: 0.4905 - val_accuracy: 0.8000\n",
            "Epoch 48/200\n",
            "12/12 [==============================] - 0s 3ms/step - loss: 0.5265 - accuracy: 0.8501 - val_loss: 0.4893 - val_accuracy: 0.8000\n",
            "Epoch 49/200\n",
            "12/12 [==============================] - 0s 4ms/step - loss: 0.4756 - accuracy: 0.8945 - val_loss: 0.4821 - val_accuracy: 0.8333\n",
            "Epoch 50/200\n",
            "12/12 [==============================] - 0s 3ms/step - loss: 0.4983 - accuracy: 0.9194 - val_loss: 0.4825 - val_accuracy: 0.8000\n",
            "Epoch 51/200\n",
            "12/12 [==============================] - 0s 3ms/step - loss: 0.4514 - accuracy: 0.9168 - val_loss: 0.4790 - val_accuracy: 0.8000\n",
            "Epoch 52/200\n",
            "12/12 [==============================] - 0s 4ms/step - loss: 0.4644 - accuracy: 0.8836 - val_loss: 0.4767 - val_accuracy: 0.8000\n",
            "Epoch 53/200\n",
            "12/12 [==============================] - 0s 3ms/step - loss: 0.4902 - accuracy: 0.8901 - val_loss: 0.4728 - val_accuracy: 0.8000\n",
            "Epoch 54/200\n",
            "12/12 [==============================] - 0s 4ms/step - loss: 0.4543 - accuracy: 0.8860 - val_loss: 0.4694 - val_accuracy: 0.8333\n",
            "Epoch 55/200\n",
            "12/12 [==============================] - 0s 3ms/step - loss: 0.4581 - accuracy: 0.8792 - val_loss: 0.4664 - val_accuracy: 0.8333\n",
            "Epoch 56/200\n",
            "12/12 [==============================] - 0s 4ms/step - loss: 0.4576 - accuracy: 0.8854 - val_loss: 0.4608 - val_accuracy: 0.8333\n",
            "Epoch 57/200\n",
            "12/12 [==============================] - 0s 4ms/step - loss: 0.4647 - accuracy: 0.8882 - val_loss: 0.4608 - val_accuracy: 0.8333\n",
            "Epoch 58/200\n",
            "12/12 [==============================] - 0s 4ms/step - loss: 0.4389 - accuracy: 0.8890 - val_loss: 0.4594 - val_accuracy: 0.8667\n",
            "Epoch 59/200\n",
            "12/12 [==============================] - 0s 4ms/step - loss: 0.4677 - accuracy: 0.9018 - val_loss: 0.4582 - val_accuracy: 0.8667\n",
            "Epoch 60/200\n",
            "12/12 [==============================] - 0s 3ms/step - loss: 0.4660 - accuracy: 0.9001 - val_loss: 0.4501 - val_accuracy: 0.8333\n",
            "Epoch 61/200\n",
            "12/12 [==============================] - 0s 3ms/step - loss: 0.4440 - accuracy: 0.8940 - val_loss: 0.4508 - val_accuracy: 0.9000\n",
            "Epoch 62/200\n",
            "12/12 [==============================] - 0s 3ms/step - loss: 0.4217 - accuracy: 0.9034 - val_loss: 0.4486 - val_accuracy: 0.8667\n",
            "Epoch 63/200\n",
            "12/12 [==============================] - 0s 4ms/step - loss: 0.4491 - accuracy: 0.9109 - val_loss: 0.4433 - val_accuracy: 0.8333\n",
            "Epoch 64/200\n",
            "12/12 [==============================] - 0s 4ms/step - loss: 0.4348 - accuracy: 0.9077 - val_loss: 0.4416 - val_accuracy: 0.8333\n",
            "Epoch 65/200\n",
            "12/12 [==============================] - 0s 4ms/step - loss: 0.4356 - accuracy: 0.9160 - val_loss: 0.4391 - val_accuracy: 0.9000\n",
            "Epoch 66/200\n",
            "12/12 [==============================] - 0s 4ms/step - loss: 0.4242 - accuracy: 0.9379 - val_loss: 0.4367 - val_accuracy: 0.9000\n",
            "Epoch 67/200\n",
            "12/12 [==============================] - 0s 4ms/step - loss: 0.4536 - accuracy: 0.9282 - val_loss: 0.4353 - val_accuracy: 0.9000\n",
            "Epoch 68/200\n",
            "12/12 [==============================] - 0s 3ms/step - loss: 0.4544 - accuracy: 0.9385 - val_loss: 0.4315 - val_accuracy: 0.9000\n",
            "Epoch 69/200\n",
            "12/12 [==============================] - 0s 12ms/step - loss: 0.4179 - accuracy: 0.8893 - val_loss: 0.4278 - val_accuracy: 0.8333\n",
            "Epoch 70/200\n",
            "12/12 [==============================] - 0s 3ms/step - loss: 0.4587 - accuracy: 0.9041 - val_loss: 0.4285 - val_accuracy: 0.9000\n",
            "Epoch 71/200\n",
            "12/12 [==============================] - 0s 3ms/step - loss: 0.4539 - accuracy: 0.9443 - val_loss: 0.4213 - val_accuracy: 0.8333\n",
            "Epoch 72/200\n",
            "12/12 [==============================] - 0s 3ms/step - loss: 0.4187 - accuracy: 0.9115 - val_loss: 0.4204 - val_accuracy: 0.9000\n",
            "Epoch 73/200\n",
            "12/12 [==============================] - 0s 4ms/step - loss: 0.4084 - accuracy: 0.9268 - val_loss: 0.4178 - val_accuracy: 0.9000\n",
            "Epoch 74/200\n",
            "12/12 [==============================] - 0s 3ms/step - loss: 0.4034 - accuracy: 0.9135 - val_loss: 0.4179 - val_accuracy: 0.9000\n",
            "Epoch 75/200\n",
            "12/12 [==============================] - 0s 3ms/step - loss: 0.4303 - accuracy: 0.9236 - val_loss: 0.4150 - val_accuracy: 0.9000\n",
            "Epoch 76/200\n",
            "12/12 [==============================] - 0s 4ms/step - loss: 0.4084 - accuracy: 0.9241 - val_loss: 0.4102 - val_accuracy: 0.9000\n",
            "Epoch 77/200\n",
            "12/12 [==============================] - 0s 4ms/step - loss: 0.3931 - accuracy: 0.9352 - val_loss: 0.4108 - val_accuracy: 0.9333\n",
            "Epoch 78/200\n",
            "12/12 [==============================] - 0s 4ms/step - loss: 0.3659 - accuracy: 0.9566 - val_loss: 0.4076 - val_accuracy: 0.9000\n",
            "Epoch 79/200\n",
            "12/12 [==============================] - 0s 3ms/step - loss: 0.3860 - accuracy: 0.9571 - val_loss: 0.4060 - val_accuracy: 0.9333\n",
            "Epoch 80/200\n",
            "12/12 [==============================] - 0s 3ms/step - loss: 0.4180 - accuracy: 0.9572 - val_loss: 0.4029 - val_accuracy: 0.9333\n",
            "Epoch 81/200\n",
            "12/12 [==============================] - 0s 4ms/step - loss: 0.3865 - accuracy: 0.9587 - val_loss: 0.3992 - val_accuracy: 0.9000\n",
            "Epoch 82/200\n",
            "12/12 [==============================] - 0s 4ms/step - loss: 0.4188 - accuracy: 0.9614 - val_loss: 0.3959 - val_accuracy: 0.9000\n",
            "Epoch 83/200\n",
            "12/12 [==============================] - 0s 3ms/step - loss: 0.3747 - accuracy: 0.9719 - val_loss: 0.3940 - val_accuracy: 0.9000\n",
            "Epoch 84/200\n",
            "12/12 [==============================] - 0s 4ms/step - loss: 0.3999 - accuracy: 0.9598 - val_loss: 0.3956 - val_accuracy: 0.9333\n",
            "Epoch 85/200\n",
            "12/12 [==============================] - 0s 4ms/step - loss: 0.3899 - accuracy: 0.9525 - val_loss: 0.3918 - val_accuracy: 0.9333\n",
            "Epoch 86/200\n",
            "12/12 [==============================] - 0s 4ms/step - loss: 0.3779 - accuracy: 0.9588 - val_loss: 0.3879 - val_accuracy: 0.9333\n",
            "Epoch 87/200\n",
            "12/12 [==============================] - 0s 4ms/step - loss: 0.3816 - accuracy: 0.9349 - val_loss: 0.3851 - val_accuracy: 0.9333\n",
            "Epoch 88/200\n",
            "12/12 [==============================] - 0s 4ms/step - loss: 0.3947 - accuracy: 0.9210 - val_loss: 0.3845 - val_accuracy: 0.9333\n",
            "Epoch 89/200\n",
            "12/12 [==============================] - 0s 4ms/step - loss: 0.4111 - accuracy: 0.9203 - val_loss: 0.3821 - val_accuracy: 0.9333\n",
            "Epoch 90/200\n",
            "12/12 [==============================] - 0s 4ms/step - loss: 0.3805 - accuracy: 0.9579 - val_loss: 0.3785 - val_accuracy: 0.9333\n",
            "Epoch 91/200\n",
            "12/12 [==============================] - 0s 3ms/step - loss: 0.3881 - accuracy: 0.9454 - val_loss: 0.3762 - val_accuracy: 0.9333\n",
            "Epoch 92/200\n",
            "12/12 [==============================] - 0s 4ms/step - loss: 0.3674 - accuracy: 0.9570 - val_loss: 0.3758 - val_accuracy: 0.9333\n",
            "Epoch 93/200\n",
            "12/12 [==============================] - 0s 3ms/step - loss: 0.3912 - accuracy: 0.9670 - val_loss: 0.3716 - val_accuracy: 0.9333\n",
            "Epoch 94/200\n",
            "12/12 [==============================] - 0s 4ms/step - loss: 0.3627 - accuracy: 0.9628 - val_loss: 0.3694 - val_accuracy: 0.9333\n",
            "Epoch 95/200\n",
            "12/12 [==============================] - 0s 4ms/step - loss: 0.3577 - accuracy: 0.9807 - val_loss: 0.3690 - val_accuracy: 0.9333\n",
            "Epoch 96/200\n",
            "12/12 [==============================] - 0s 4ms/step - loss: 0.3404 - accuracy: 0.9670 - val_loss: 0.3665 - val_accuracy: 0.9333\n",
            "Epoch 97/200\n",
            "12/12 [==============================] - 0s 4ms/step - loss: 0.3977 - accuracy: 0.9230 - val_loss: 0.3632 - val_accuracy: 0.9333\n",
            "Epoch 98/200\n",
            "12/12 [==============================] - 0s 4ms/step - loss: 0.3709 - accuracy: 0.9572 - val_loss: 0.3608 - val_accuracy: 0.9333\n",
            "Epoch 99/200\n",
            "12/12 [==============================] - 0s 4ms/step - loss: 0.3426 - accuracy: 0.9615 - val_loss: 0.3588 - val_accuracy: 0.9333\n",
            "Epoch 100/200\n",
            "12/12 [==============================] - 0s 3ms/step - loss: 0.3657 - accuracy: 0.9590 - val_loss: 0.3584 - val_accuracy: 0.9667\n",
            "Epoch 101/200\n",
            "12/12 [==============================] - 0s 3ms/step - loss: 0.3336 - accuracy: 0.9691 - val_loss: 0.3556 - val_accuracy: 0.9667\n",
            "Epoch 102/200\n",
            "12/12 [==============================] - 0s 4ms/step - loss: 0.3530 - accuracy: 0.9463 - val_loss: 0.3526 - val_accuracy: 0.9333\n",
            "Epoch 103/200\n",
            "12/12 [==============================] - 0s 4ms/step - loss: 0.3444 - accuracy: 0.9653 - val_loss: 0.3503 - val_accuracy: 0.9667\n",
            "Epoch 104/200\n",
            "12/12 [==============================] - 0s 4ms/step - loss: 0.3616 - accuracy: 0.9480 - val_loss: 0.3479 - val_accuracy: 0.9667\n",
            "Epoch 105/200\n",
            "12/12 [==============================] - 0s 4ms/step - loss: 0.3402 - accuracy: 0.9568 - val_loss: 0.3461 - val_accuracy: 1.0000\n",
            "Epoch 106/200\n",
            "12/12 [==============================] - 0s 3ms/step - loss: 0.3577 - accuracy: 0.9525 - val_loss: 0.3433 - val_accuracy: 0.9667\n",
            "Epoch 107/200\n",
            "12/12 [==============================] - 0s 4ms/step - loss: 0.3542 - accuracy: 0.9321 - val_loss: 0.3438 - val_accuracy: 0.9667\n",
            "Epoch 108/200\n",
            "12/12 [==============================] - 0s 3ms/step - loss: 0.3716 - accuracy: 0.9547 - val_loss: 0.3381 - val_accuracy: 0.9667\n",
            "Epoch 109/200\n",
            "12/12 [==============================] - 0s 3ms/step - loss: 0.3426 - accuracy: 0.9387 - val_loss: 0.3360 - val_accuracy: 0.9667\n",
            "Epoch 110/200\n",
            "12/12 [==============================] - 0s 3ms/step - loss: 0.3236 - accuracy: 0.9562 - val_loss: 0.3387 - val_accuracy: 0.9667\n",
            "Epoch 111/200\n",
            "12/12 [==============================] - 0s 4ms/step - loss: 0.3225 - accuracy: 0.9650 - val_loss: 0.3327 - val_accuracy: 1.0000\n",
            "Epoch 112/200\n",
            "12/12 [==============================] - 0s 3ms/step - loss: 0.3323 - accuracy: 0.9496 - val_loss: 0.3297 - val_accuracy: 0.9667\n",
            "Epoch 113/200\n",
            "12/12 [==============================] - 0s 4ms/step - loss: 0.2998 - accuracy: 0.9643 - val_loss: 0.3294 - val_accuracy: 1.0000\n",
            "Epoch 114/200\n",
            "12/12 [==============================] - 0s 3ms/step - loss: 0.3164 - accuracy: 0.9535 - val_loss: 0.3264 - val_accuracy: 1.0000\n",
            "Epoch 115/200\n",
            "12/12 [==============================] - 0s 3ms/step - loss: 0.3115 - accuracy: 0.9698 - val_loss: 0.3232 - val_accuracy: 1.0000\n",
            "Epoch 116/200\n",
            "12/12 [==============================] - 0s 4ms/step - loss: 0.2997 - accuracy: 0.9673 - val_loss: 0.3233 - val_accuracy: 1.0000\n",
            "Epoch 117/200\n",
            "12/12 [==============================] - 0s 4ms/step - loss: 0.2990 - accuracy: 0.9538 - val_loss: 0.3217 - val_accuracy: 1.0000\n",
            "Epoch 118/200\n",
            "12/12 [==============================] - 0s 3ms/step - loss: 0.3137 - accuracy: 0.9742 - val_loss: 0.3192 - val_accuracy: 1.0000\n",
            "Epoch 119/200\n",
            "12/12 [==============================] - 0s 4ms/step - loss: 0.3027 - accuracy: 0.9502 - val_loss: 0.3164 - val_accuracy: 1.0000\n",
            "Epoch 120/200\n",
            "12/12 [==============================] - 0s 4ms/step - loss: 0.3225 - accuracy: 0.9555 - val_loss: 0.3162 - val_accuracy: 1.0000\n",
            "Epoch 121/200\n",
            "12/12 [==============================] - 0s 4ms/step - loss: 0.3457 - accuracy: 0.9474 - val_loss: 0.3146 - val_accuracy: 1.0000\n",
            "Epoch 122/200\n",
            "12/12 [==============================] - 0s 3ms/step - loss: 0.3133 - accuracy: 0.9518 - val_loss: 0.3085 - val_accuracy: 1.0000\n",
            "Epoch 123/200\n",
            "12/12 [==============================] - 0s 4ms/step - loss: 0.3111 - accuracy: 0.9350 - val_loss: 0.3080 - val_accuracy: 1.0000\n",
            "Epoch 124/200\n",
            "12/12 [==============================] - 0s 4ms/step - loss: 0.3063 - accuracy: 0.9569 - val_loss: 0.3065 - val_accuracy: 1.0000\n",
            "Epoch 125/200\n",
            "12/12 [==============================] - 0s 13ms/step - loss: 0.3252 - accuracy: 0.9459 - val_loss: 0.3064 - val_accuracy: 1.0000\n",
            "Epoch 126/200\n",
            "12/12 [==============================] - 0s 4ms/step - loss: 0.3223 - accuracy: 0.9602 - val_loss: 0.3011 - val_accuracy: 1.0000\n",
            "Epoch 127/200\n",
            "12/12 [==============================] - 0s 4ms/step - loss: 0.2732 - accuracy: 0.9684 - val_loss: 0.3007 - val_accuracy: 1.0000\n",
            "Epoch 128/200\n",
            "12/12 [==============================] - 0s 4ms/step - loss: 0.2801 - accuracy: 0.9759 - val_loss: 0.2984 - val_accuracy: 1.0000\n",
            "Epoch 129/200\n",
            "12/12 [==============================] - 0s 4ms/step - loss: 0.2999 - accuracy: 0.9648 - val_loss: 0.2961 - val_accuracy: 1.0000\n",
            "Epoch 130/200\n",
            "12/12 [==============================] - 0s 3ms/step - loss: 0.3130 - accuracy: 0.9764 - val_loss: 0.2932 - val_accuracy: 1.0000\n",
            "Epoch 131/200\n",
            "12/12 [==============================] - 0s 3ms/step - loss: 0.3052 - accuracy: 0.9392 - val_loss: 0.2959 - val_accuracy: 1.0000\n",
            "Epoch 132/200\n",
            "12/12 [==============================] - 0s 4ms/step - loss: 0.2876 - accuracy: 0.9894 - val_loss: 0.2914 - val_accuracy: 1.0000\n",
            "Epoch 133/200\n",
            "12/12 [==============================] - 0s 4ms/step - loss: 0.2631 - accuracy: 0.9826 - val_loss: 0.2893 - val_accuracy: 1.0000\n",
            "Epoch 134/200\n",
            "12/12 [==============================] - 0s 4ms/step - loss: 0.3077 - accuracy: 0.9435 - val_loss: 0.2857 - val_accuracy: 1.0000\n",
            "Epoch 135/200\n",
            "12/12 [==============================] - 0s 4ms/step - loss: 0.2759 - accuracy: 0.9457 - val_loss: 0.2845 - val_accuracy: 1.0000\n",
            "Epoch 136/200\n",
            "12/12 [==============================] - 0s 4ms/step - loss: 0.2779 - accuracy: 0.9727 - val_loss: 0.2845 - val_accuracy: 1.0000\n",
            "Epoch 137/200\n",
            "12/12 [==============================] - 0s 3ms/step - loss: 0.2899 - accuracy: 0.9753 - val_loss: 0.2818 - val_accuracy: 1.0000\n",
            "Epoch 138/200\n",
            "12/12 [==============================] - 0s 3ms/step - loss: 0.2785 - accuracy: 0.9816 - val_loss: 0.2806 - val_accuracy: 1.0000\n",
            "Epoch 139/200\n",
            "12/12 [==============================] - 0s 4ms/step - loss: 0.2970 - accuracy: 0.9755 - val_loss: 0.2783 - val_accuracy: 1.0000\n",
            "Epoch 140/200\n",
            "12/12 [==============================] - 0s 4ms/step - loss: 0.2866 - accuracy: 0.9606 - val_loss: 0.2762 - val_accuracy: 1.0000\n",
            "Epoch 141/200\n",
            "12/12 [==============================] - 0s 4ms/step - loss: 0.2890 - accuracy: 0.9629 - val_loss: 0.2738 - val_accuracy: 1.0000\n",
            "Epoch 142/200\n",
            "12/12 [==============================] - 0s 4ms/step - loss: 0.2726 - accuracy: 0.9639 - val_loss: 0.2736 - val_accuracy: 1.0000\n",
            "Epoch 143/200\n",
            "12/12 [==============================] - 0s 4ms/step - loss: 0.2680 - accuracy: 0.9503 - val_loss: 0.2707 - val_accuracy: 1.0000\n",
            "Epoch 144/200\n",
            "12/12 [==============================] - 0s 4ms/step - loss: 0.2764 - accuracy: 0.9446 - val_loss: 0.2691 - val_accuracy: 1.0000\n",
            "Epoch 145/200\n",
            "12/12 [==============================] - 0s 4ms/step - loss: 0.2421 - accuracy: 0.9787 - val_loss: 0.2662 - val_accuracy: 1.0000\n",
            "Epoch 146/200\n",
            "12/12 [==============================] - 0s 4ms/step - loss: 0.2601 - accuracy: 0.9723 - val_loss: 0.2651 - val_accuracy: 1.0000\n",
            "Epoch 147/200\n",
            "12/12 [==============================] - 0s 3ms/step - loss: 0.2599 - accuracy: 0.9630 - val_loss: 0.2657 - val_accuracy: 1.0000\n",
            "Epoch 148/200\n",
            "12/12 [==============================] - 0s 3ms/step - loss: 0.2748 - accuracy: 0.9714 - val_loss: 0.2623 - val_accuracy: 1.0000\n",
            "Epoch 149/200\n",
            "12/12 [==============================] - 0s 4ms/step - loss: 0.2563 - accuracy: 0.9818 - val_loss: 0.2599 - val_accuracy: 1.0000\n",
            "Epoch 150/200\n",
            "12/12 [==============================] - 0s 4ms/step - loss: 0.2553 - accuracy: 0.9481 - val_loss: 0.2595 - val_accuracy: 1.0000\n",
            "Epoch 151/200\n",
            "12/12 [==============================] - 0s 4ms/step - loss: 0.2362 - accuracy: 0.9759 - val_loss: 0.2565 - val_accuracy: 1.0000\n",
            "Epoch 152/200\n",
            "12/12 [==============================] - 0s 4ms/step - loss: 0.2687 - accuracy: 0.9641 - val_loss: 0.2553 - val_accuracy: 1.0000\n",
            "Epoch 153/200\n",
            "12/12 [==============================] - 0s 4ms/step - loss: 0.2657 - accuracy: 0.9811 - val_loss: 0.2536 - val_accuracy: 1.0000\n",
            "Epoch 154/200\n",
            "12/12 [==============================] - 0s 4ms/step - loss: 0.2826 - accuracy: 0.9568 - val_loss: 0.2528 - val_accuracy: 1.0000\n",
            "Epoch 155/200\n",
            "12/12 [==============================] - 0s 4ms/step - loss: 0.2612 - accuracy: 0.9528 - val_loss: 0.2494 - val_accuracy: 1.0000\n",
            "Epoch 156/200\n",
            "12/12 [==============================] - 0s 4ms/step - loss: 0.2273 - accuracy: 0.9810 - val_loss: 0.2475 - val_accuracy: 1.0000\n",
            "Epoch 157/200\n",
            "12/12 [==============================] - 0s 4ms/step - loss: 0.2392 - accuracy: 0.9738 - val_loss: 0.2494 - val_accuracy: 1.0000\n",
            "Epoch 158/200\n",
            "12/12 [==============================] - 0s 4ms/step - loss: 0.2483 - accuracy: 0.9509 - val_loss: 0.2461 - val_accuracy: 1.0000\n",
            "Epoch 159/200\n",
            "12/12 [==============================] - 0s 4ms/step - loss: 0.2243 - accuracy: 0.9879 - val_loss: 0.2442 - val_accuracy: 1.0000\n",
            "Epoch 160/200\n",
            "12/12 [==============================] - 0s 3ms/step - loss: 0.2448 - accuracy: 0.9799 - val_loss: 0.2424 - val_accuracy: 1.0000\n",
            "Epoch 161/200\n",
            "12/12 [==============================] - 0s 4ms/step - loss: 0.2455 - accuracy: 0.9614 - val_loss: 0.2409 - val_accuracy: 1.0000\n",
            "Epoch 162/200\n",
            "12/12 [==============================] - 0s 4ms/step - loss: 0.2330 - accuracy: 0.9748 - val_loss: 0.2393 - val_accuracy: 1.0000\n",
            "Epoch 163/200\n",
            "12/12 [==============================] - 0s 4ms/step - loss: 0.2299 - accuracy: 0.9822 - val_loss: 0.2368 - val_accuracy: 1.0000\n",
            "Epoch 164/200\n",
            "12/12 [==============================] - 0s 4ms/step - loss: 0.2227 - accuracy: 0.9630 - val_loss: 0.2354 - val_accuracy: 1.0000\n",
            "Epoch 165/200\n",
            "12/12 [==============================] - 0s 3ms/step - loss: 0.2258 - accuracy: 0.9742 - val_loss: 0.2373 - val_accuracy: 1.0000\n",
            "Epoch 166/200\n",
            "12/12 [==============================] - 0s 4ms/step - loss: 0.2260 - accuracy: 0.9803 - val_loss: 0.2326 - val_accuracy: 1.0000\n",
            "Epoch 167/200\n",
            "12/12 [==============================] - 0s 4ms/step - loss: 0.2461 - accuracy: 0.9391 - val_loss: 0.2313 - val_accuracy: 1.0000\n",
            "Epoch 168/200\n",
            "12/12 [==============================] - 0s 4ms/step - loss: 0.2374 - accuracy: 0.9540 - val_loss: 0.2294 - val_accuracy: 1.0000\n",
            "Epoch 169/200\n",
            "12/12 [==============================] - 0s 3ms/step - loss: 0.2253 - accuracy: 0.9463 - val_loss: 0.2286 - val_accuracy: 1.0000\n",
            "Epoch 170/200\n",
            "12/12 [==============================] - 0s 4ms/step - loss: 0.2355 - accuracy: 0.9811 - val_loss: 0.2266 - val_accuracy: 1.0000\n",
            "Epoch 171/200\n",
            "12/12 [==============================] - 0s 4ms/step - loss: 0.2369 - accuracy: 0.9512 - val_loss: 0.2257 - val_accuracy: 1.0000\n",
            "Epoch 172/200\n",
            "12/12 [==============================] - 0s 3ms/step - loss: 0.2124 - accuracy: 0.9532 - val_loss: 0.2251 - val_accuracy: 1.0000\n",
            "Epoch 173/200\n",
            "12/12 [==============================] - 0s 4ms/step - loss: 0.2481 - accuracy: 0.9722 - val_loss: 0.2231 - val_accuracy: 1.0000\n",
            "Epoch 174/200\n",
            "12/12 [==============================] - 0s 4ms/step - loss: 0.2098 - accuracy: 0.9831 - val_loss: 0.2222 - val_accuracy: 1.0000\n",
            "Epoch 175/200\n",
            "12/12 [==============================] - 0s 4ms/step - loss: 0.2191 - accuracy: 0.9722 - val_loss: 0.2196 - val_accuracy: 1.0000\n",
            "Epoch 176/200\n",
            "12/12 [==============================] - 0s 4ms/step - loss: 0.2229 - accuracy: 0.9729 - val_loss: 0.2175 - val_accuracy: 1.0000\n",
            "Epoch 177/200\n",
            "12/12 [==============================] - 0s 4ms/step - loss: 0.2398 - accuracy: 0.9862 - val_loss: 0.2172 - val_accuracy: 1.0000\n",
            "Epoch 178/200\n",
            "12/12 [==============================] - 0s 3ms/step - loss: 0.2258 - accuracy: 0.9616 - val_loss: 0.2171 - val_accuracy: 1.0000\n",
            "Epoch 179/200\n",
            "12/12 [==============================] - 0s 4ms/step - loss: 0.2279 - accuracy: 0.9662 - val_loss: 0.2150 - val_accuracy: 1.0000\n",
            "Epoch 180/200\n",
            "12/12 [==============================] - 0s 3ms/step - loss: 0.2015 - accuracy: 0.9801 - val_loss: 0.2143 - val_accuracy: 1.0000\n",
            "Epoch 181/200\n",
            "12/12 [==============================] - 0s 14ms/step - loss: 0.2011 - accuracy: 0.9761 - val_loss: 0.2108 - val_accuracy: 1.0000\n",
            "Epoch 182/200\n",
            "12/12 [==============================] - 0s 4ms/step - loss: 0.2136 - accuracy: 0.9719 - val_loss: 0.2110 - val_accuracy: 1.0000\n",
            "Epoch 183/200\n",
            "12/12 [==============================] - 0s 4ms/step - loss: 0.2355 - accuracy: 0.9815 - val_loss: 0.2098 - val_accuracy: 1.0000\n",
            "Epoch 184/200\n",
            "12/12 [==============================] - 0s 4ms/step - loss: 0.2339 - accuracy: 0.9643 - val_loss: 0.2073 - val_accuracy: 1.0000\n",
            "Epoch 185/200\n",
            "12/12 [==============================] - 0s 3ms/step - loss: 0.2044 - accuracy: 0.9626 - val_loss: 0.2063 - val_accuracy: 1.0000\n",
            "Epoch 186/200\n",
            "12/12 [==============================] - 0s 4ms/step - loss: 0.1897 - accuracy: 0.9863 - val_loss: 0.2059 - val_accuracy: 1.0000\n",
            "Epoch 187/200\n",
            "12/12 [==============================] - 0s 4ms/step - loss: 0.2104 - accuracy: 0.9824 - val_loss: 0.2043 - val_accuracy: 1.0000\n",
            "Epoch 188/200\n",
            "12/12 [==============================] - 0s 4ms/step - loss: 0.1874 - accuracy: 0.9863 - val_loss: 0.2022 - val_accuracy: 1.0000\n",
            "Epoch 189/200\n",
            "12/12 [==============================] - 0s 3ms/step - loss: 0.2142 - accuracy: 0.9756 - val_loss: 0.2018 - val_accuracy: 1.0000\n",
            "Epoch 190/200\n",
            "12/12 [==============================] - 0s 4ms/step - loss: 0.1764 - accuracy: 0.9925 - val_loss: 0.1996 - val_accuracy: 1.0000\n",
            "Epoch 191/200\n",
            "12/12 [==============================] - 0s 4ms/step - loss: 0.1828 - accuracy: 0.9862 - val_loss: 0.1984 - val_accuracy: 1.0000\n",
            "Epoch 192/200\n",
            "12/12 [==============================] - 0s 3ms/step - loss: 0.1933 - accuracy: 0.9754 - val_loss: 0.1987 - val_accuracy: 1.0000\n",
            "Epoch 193/200\n",
            "12/12 [==============================] - 0s 3ms/step - loss: 0.1791 - accuracy: 0.9642 - val_loss: 0.1970 - val_accuracy: 1.0000\n",
            "Epoch 194/200\n",
            "12/12 [==============================] - 0s 4ms/step - loss: 0.1765 - accuracy: 0.9905 - val_loss: 0.1956 - val_accuracy: 1.0000\n",
            "Epoch 195/200\n",
            "12/12 [==============================] - 0s 4ms/step - loss: 0.2093 - accuracy: 0.9640 - val_loss: 0.1956 - val_accuracy: 1.0000\n",
            "Epoch 196/200\n",
            "12/12 [==============================] - 0s 4ms/step - loss: 0.1782 - accuracy: 0.9666 - val_loss: 0.1933 - val_accuracy: 1.0000\n",
            "Epoch 197/200\n",
            "12/12 [==============================] - 0s 4ms/step - loss: 0.1963 - accuracy: 0.9781 - val_loss: 0.1922 - val_accuracy: 1.0000\n",
            "Epoch 198/200\n",
            "12/12 [==============================] - 0s 4ms/step - loss: 0.1770 - accuracy: 0.9794 - val_loss: 0.1910 - val_accuracy: 1.0000\n",
            "Epoch 199/200\n",
            "12/12 [==============================] - 0s 4ms/step - loss: 0.1824 - accuracy: 0.9581 - val_loss: 0.1899 - val_accuracy: 1.0000\n",
            "Epoch 200/200\n",
            "12/12 [==============================] - 0s 4ms/step - loss: 0.1925 - accuracy: 0.9748 - val_loss: 0.1880 - val_accuracy: 1.0000\n"
          ],
          "name": "stdout"
        },
        {
          "output_type": "execute_result",
          "data": {
            "text/plain": [
              "<tensorflow.python.keras.callbacks.History at 0x7f3e82bfa7f0>"
            ]
          },
          "metadata": {
            "tags": []
          },
          "execution_count": 24
        }
      ]
    },
    {
      "cell_type": "code",
      "metadata": {
        "id": "a98GLioq30cH",
        "colab": {
          "base_uri": "https://localhost:8080/"
        },
        "outputId": "97c17a2c-2258-40e3-d289-84df4bb753d2"
      },
      "source": [
        "predictions_Neural = model_Neural.predict(x_test)\n",
        "print(predictions_Neural)"
      ],
      "execution_count": 25,
      "outputs": [
        {
          "output_type": "stream",
          "text": [
            "[[2.3126570e-03 7.1352684e-01 2.8416049e-01]\n",
            " [9.9234819e-01 7.6511749e-03 6.4917674e-07]\n",
            " [3.8272038e-08 2.2790153e-02 9.7720975e-01]\n",
            " [2.0084784e-03 6.7220420e-01 3.2578734e-01]\n",
            " [1.3600681e-03 7.7886552e-01 2.1977445e-01]\n",
            " [9.8504817e-01 1.4949352e-02 2.4672406e-06]\n",
            " [2.8105514e-02 8.9069188e-01 8.1202663e-02]\n",
            " [7.3390031e-05 3.5318270e-01 6.4674389e-01]\n",
            " [3.7924465e-04 5.4071981e-01 4.5890087e-01]\n",
            " [1.2295152e-02 8.7156427e-01 1.1614059e-01]\n",
            " [1.9654751e-04 3.9235038e-01 6.0745311e-01]\n",
            " [9.8541379e-01 1.4582358e-02 3.9244719e-06]\n",
            " [9.9297041e-01 7.0291744e-03 4.3265337e-07]\n",
            " [9.8549694e-01 1.4499300e-02 3.7111654e-06]\n",
            " [9.9276251e-01 7.2365170e-03 9.6321071e-07]\n",
            " [2.6731093e-03 7.2911155e-01 2.6821533e-01]\n",
            " [3.5680048e-06 7.7585109e-02 9.2241132e-01]\n",
            " [9.6549680e-03 8.3819848e-01 1.5214653e-01]\n",
            " [2.4264972e-03 6.4285201e-01 3.5472155e-01]\n",
            " [3.6723588e-06 8.0006339e-02 9.1999000e-01]\n",
            " [9.8127580e-01 1.8715853e-02 8.2678644e-06]\n",
            " [3.0971185e-04 3.9752859e-01 6.0216171e-01]\n",
            " [9.8083341e-01 1.9160114e-02 6.6052398e-06]\n",
            " [5.5559931e-06 9.5569566e-02 9.0442491e-01]\n",
            " [4.8032514e-05 3.8251373e-01 6.1743832e-01]\n",
            " [3.1068790e-05 2.3282482e-01 7.6714420e-01]\n",
            " [4.9490845e-06 1.1710360e-01 8.8289148e-01]\n",
            " [4.4405479e-06 9.6685469e-02 9.0331006e-01]\n",
            " [9.7680295e-01 2.3187814e-02 9.2135115e-06]\n",
            " [9.7722214e-01 2.2767941e-02 9.9035060e-06]]\n"
          ],
          "name": "stdout"
        }
      ]
    }
  ]
}