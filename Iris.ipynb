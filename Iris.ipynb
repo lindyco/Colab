{
  "nbformat": 4,
  "nbformat_minor": 0,
  "metadata": {
    "colab": {
      "name": "Iris.ipynb",
      "provenance": [],
      "authorship_tag": "ABX9TyOA9gS9ZUMS7U0R/0irZjE8",
      "include_colab_link": true
    },
    "kernelspec": {
      "name": "python3",
      "display_name": "Python 3"
    }
  },
  "cells": [
    {
      "cell_type": "markdown",
      "metadata": {
        "id": "view-in-github",
        "colab_type": "text"
      },
      "source": [
        "<a href=\"https://colab.research.google.com/github/lindyco/Colab/blob/main/Iris.ipynb\" target=\"_parent\"><img src=\"https://colab.research.google.com/assets/colab-badge.svg\" alt=\"Open In Colab\"/></a>"
      ]
    },
    {
      "cell_type": "markdown",
      "metadata": {
        "id": "EwTGNWoOZohM"
      },
      "source": [
        "This is a simple program to train and test the data from Sklearn to predict the species of Iris.\n",
        "It implements the LogisticRegression model to training the data.\n",
        "The result of the prediction is 100% correct.\n",
        "\n",
        "I also implemented the linear regression and Neural Network model to the program, and comapre the different between three of them."
      ]
    },
    {
      "cell_type": "code",
      "metadata": {
        "id": "DPT8jmN2Fokm"
      },
      "source": [
        "# Import the library that I need\n",
        "import matplotlib.pyplot as plt\n",
        "import seaborn as sns\n",
        "from sklearn.metrics import classification_report\n",
        "from sklearn.metrics import accuracy_score\n",
        "from sklearn.model_selection import train_test_split\n",
        "from sklearn.datasets import load_iris\n",
        "import pandas as pd "
      ],
      "execution_count": 1,
      "outputs": []
    },
    {
      "cell_type": "code",
      "metadata": {
        "colab": {
          "base_uri": "https://localhost:8080/"
        },
        "id": "RnQNsnR7Io2Z",
        "outputId": "81571cf7-b276-428f-dfef-3b370e3ca5f4"
      },
      "source": [
        "# Loading the data to X and y\n",
        "# Then I print the X and y out to see what is the data looks like\n",
        "X, y = load_iris(return_X_y=True)\n",
        "print(X)"
      ],
      "execution_count": 2,
      "outputs": [
        {
          "output_type": "stream",
          "text": [
            "[[5.1 3.5 1.4 0.2]\n",
            " [4.9 3.  1.4 0.2]\n",
            " [4.7 3.2 1.3 0.2]\n",
            " [4.6 3.1 1.5 0.2]\n",
            " [5.  3.6 1.4 0.2]\n",
            " [5.4 3.9 1.7 0.4]\n",
            " [4.6 3.4 1.4 0.3]\n",
            " [5.  3.4 1.5 0.2]\n",
            " [4.4 2.9 1.4 0.2]\n",
            " [4.9 3.1 1.5 0.1]\n",
            " [5.4 3.7 1.5 0.2]\n",
            " [4.8 3.4 1.6 0.2]\n",
            " [4.8 3.  1.4 0.1]\n",
            " [4.3 3.  1.1 0.1]\n",
            " [5.8 4.  1.2 0.2]\n",
            " [5.7 4.4 1.5 0.4]\n",
            " [5.4 3.9 1.3 0.4]\n",
            " [5.1 3.5 1.4 0.3]\n",
            " [5.7 3.8 1.7 0.3]\n",
            " [5.1 3.8 1.5 0.3]\n",
            " [5.4 3.4 1.7 0.2]\n",
            " [5.1 3.7 1.5 0.4]\n",
            " [4.6 3.6 1.  0.2]\n",
            " [5.1 3.3 1.7 0.5]\n",
            " [4.8 3.4 1.9 0.2]\n",
            " [5.  3.  1.6 0.2]\n",
            " [5.  3.4 1.6 0.4]\n",
            " [5.2 3.5 1.5 0.2]\n",
            " [5.2 3.4 1.4 0.2]\n",
            " [4.7 3.2 1.6 0.2]\n",
            " [4.8 3.1 1.6 0.2]\n",
            " [5.4 3.4 1.5 0.4]\n",
            " [5.2 4.1 1.5 0.1]\n",
            " [5.5 4.2 1.4 0.2]\n",
            " [4.9 3.1 1.5 0.2]\n",
            " [5.  3.2 1.2 0.2]\n",
            " [5.5 3.5 1.3 0.2]\n",
            " [4.9 3.6 1.4 0.1]\n",
            " [4.4 3.  1.3 0.2]\n",
            " [5.1 3.4 1.5 0.2]\n",
            " [5.  3.5 1.3 0.3]\n",
            " [4.5 2.3 1.3 0.3]\n",
            " [4.4 3.2 1.3 0.2]\n",
            " [5.  3.5 1.6 0.6]\n",
            " [5.1 3.8 1.9 0.4]\n",
            " [4.8 3.  1.4 0.3]\n",
            " [5.1 3.8 1.6 0.2]\n",
            " [4.6 3.2 1.4 0.2]\n",
            " [5.3 3.7 1.5 0.2]\n",
            " [5.  3.3 1.4 0.2]\n",
            " [7.  3.2 4.7 1.4]\n",
            " [6.4 3.2 4.5 1.5]\n",
            " [6.9 3.1 4.9 1.5]\n",
            " [5.5 2.3 4.  1.3]\n",
            " [6.5 2.8 4.6 1.5]\n",
            " [5.7 2.8 4.5 1.3]\n",
            " [6.3 3.3 4.7 1.6]\n",
            " [4.9 2.4 3.3 1. ]\n",
            " [6.6 2.9 4.6 1.3]\n",
            " [5.2 2.7 3.9 1.4]\n",
            " [5.  2.  3.5 1. ]\n",
            " [5.9 3.  4.2 1.5]\n",
            " [6.  2.2 4.  1. ]\n",
            " [6.1 2.9 4.7 1.4]\n",
            " [5.6 2.9 3.6 1.3]\n",
            " [6.7 3.1 4.4 1.4]\n",
            " [5.6 3.  4.5 1.5]\n",
            " [5.8 2.7 4.1 1. ]\n",
            " [6.2 2.2 4.5 1.5]\n",
            " [5.6 2.5 3.9 1.1]\n",
            " [5.9 3.2 4.8 1.8]\n",
            " [6.1 2.8 4.  1.3]\n",
            " [6.3 2.5 4.9 1.5]\n",
            " [6.1 2.8 4.7 1.2]\n",
            " [6.4 2.9 4.3 1.3]\n",
            " [6.6 3.  4.4 1.4]\n",
            " [6.8 2.8 4.8 1.4]\n",
            " [6.7 3.  5.  1.7]\n",
            " [6.  2.9 4.5 1.5]\n",
            " [5.7 2.6 3.5 1. ]\n",
            " [5.5 2.4 3.8 1.1]\n",
            " [5.5 2.4 3.7 1. ]\n",
            " [5.8 2.7 3.9 1.2]\n",
            " [6.  2.7 5.1 1.6]\n",
            " [5.4 3.  4.5 1.5]\n",
            " [6.  3.4 4.5 1.6]\n",
            " [6.7 3.1 4.7 1.5]\n",
            " [6.3 2.3 4.4 1.3]\n",
            " [5.6 3.  4.1 1.3]\n",
            " [5.5 2.5 4.  1.3]\n",
            " [5.5 2.6 4.4 1.2]\n",
            " [6.1 3.  4.6 1.4]\n",
            " [5.8 2.6 4.  1.2]\n",
            " [5.  2.3 3.3 1. ]\n",
            " [5.6 2.7 4.2 1.3]\n",
            " [5.7 3.  4.2 1.2]\n",
            " [5.7 2.9 4.2 1.3]\n",
            " [6.2 2.9 4.3 1.3]\n",
            " [5.1 2.5 3.  1.1]\n",
            " [5.7 2.8 4.1 1.3]\n",
            " [6.3 3.3 6.  2.5]\n",
            " [5.8 2.7 5.1 1.9]\n",
            " [7.1 3.  5.9 2.1]\n",
            " [6.3 2.9 5.6 1.8]\n",
            " [6.5 3.  5.8 2.2]\n",
            " [7.6 3.  6.6 2.1]\n",
            " [4.9 2.5 4.5 1.7]\n",
            " [7.3 2.9 6.3 1.8]\n",
            " [6.7 2.5 5.8 1.8]\n",
            " [7.2 3.6 6.1 2.5]\n",
            " [6.5 3.2 5.1 2. ]\n",
            " [6.4 2.7 5.3 1.9]\n",
            " [6.8 3.  5.5 2.1]\n",
            " [5.7 2.5 5.  2. ]\n",
            " [5.8 2.8 5.1 2.4]\n",
            " [6.4 3.2 5.3 2.3]\n",
            " [6.5 3.  5.5 1.8]\n",
            " [7.7 3.8 6.7 2.2]\n",
            " [7.7 2.6 6.9 2.3]\n",
            " [6.  2.2 5.  1.5]\n",
            " [6.9 3.2 5.7 2.3]\n",
            " [5.6 2.8 4.9 2. ]\n",
            " [7.7 2.8 6.7 2. ]\n",
            " [6.3 2.7 4.9 1.8]\n",
            " [6.7 3.3 5.7 2.1]\n",
            " [7.2 3.2 6.  1.8]\n",
            " [6.2 2.8 4.8 1.8]\n",
            " [6.1 3.  4.9 1.8]\n",
            " [6.4 2.8 5.6 2.1]\n",
            " [7.2 3.  5.8 1.6]\n",
            " [7.4 2.8 6.1 1.9]\n",
            " [7.9 3.8 6.4 2. ]\n",
            " [6.4 2.8 5.6 2.2]\n",
            " [6.3 2.8 5.1 1.5]\n",
            " [6.1 2.6 5.6 1.4]\n",
            " [7.7 3.  6.1 2.3]\n",
            " [6.3 3.4 5.6 2.4]\n",
            " [6.4 3.1 5.5 1.8]\n",
            " [6.  3.  4.8 1.8]\n",
            " [6.9 3.1 5.4 2.1]\n",
            " [6.7 3.1 5.6 2.4]\n",
            " [6.9 3.1 5.1 2.3]\n",
            " [5.8 2.7 5.1 1.9]\n",
            " [6.8 3.2 5.9 2.3]\n",
            " [6.7 3.3 5.7 2.5]\n",
            " [6.7 3.  5.2 2.3]\n",
            " [6.3 2.5 5.  1.9]\n",
            " [6.5 3.  5.2 2. ]\n",
            " [6.2 3.4 5.4 2.3]\n",
            " [5.9 3.  5.1 1.8]]\n"
          ],
          "name": "stdout"
        }
      ]
    },
    {
      "cell_type": "code",
      "metadata": {
        "colab": {
          "base_uri": "https://localhost:8080/"
        },
        "id": "4U2HTNduKLLm",
        "outputId": "4b232ab4-25f3-4b46-dee9-56192eab6905"
      },
      "source": [
        "print(y)"
      ],
      "execution_count": 3,
      "outputs": [
        {
          "output_type": "stream",
          "text": [
            "[0 0 0 0 0 0 0 0 0 0 0 0 0 0 0 0 0 0 0 0 0 0 0 0 0 0 0 0 0 0 0 0 0 0 0 0 0\n",
            " 0 0 0 0 0 0 0 0 0 0 0 0 0 1 1 1 1 1 1 1 1 1 1 1 1 1 1 1 1 1 1 1 1 1 1 1 1\n",
            " 1 1 1 1 1 1 1 1 1 1 1 1 1 1 1 1 1 1 1 1 1 1 1 1 1 1 2 2 2 2 2 2 2 2 2 2 2\n",
            " 2 2 2 2 2 2 2 2 2 2 2 2 2 2 2 2 2 2 2 2 2 2 2 2 2 2 2 2 2 2 2 2 2 2 2 2 2\n",
            " 2 2]\n"
          ],
          "name": "stdout"
        }
      ]
    },
    {
      "cell_type": "markdown",
      "metadata": {
        "id": "cpn-YUlmKXEk"
      },
      "source": [
        "In this case, print data doesn't tell me what is each column or rows mean, therefore, I use seaborn to load the dataset to define a proper ordering for categorical variables."
      ]
    },
    {
      "cell_type": "code",
      "metadata": {
        "colab": {
          "base_uri": "https://localhost:8080/"
        },
        "id": "gpG8xRbsQfSS",
        "outputId": "27675a95-b876-4149-da8b-c47f19baa464"
      },
      "source": [
        "data = sns.load_dataset('iris')\n",
        "data.head()\n",
        "print(data)"
      ],
      "execution_count": 4,
      "outputs": [
        {
          "output_type": "stream",
          "text": [
            "     sepal_length  sepal_width  petal_length  petal_width    species\n",
            "0             5.1          3.5           1.4          0.2     setosa\n",
            "1             4.9          3.0           1.4          0.2     setosa\n",
            "2             4.7          3.2           1.3          0.2     setosa\n",
            "3             4.6          3.1           1.5          0.2     setosa\n",
            "4             5.0          3.6           1.4          0.2     setosa\n",
            "..            ...          ...           ...          ...        ...\n",
            "145           6.7          3.0           5.2          2.3  virginica\n",
            "146           6.3          2.5           5.0          1.9  virginica\n",
            "147           6.5          3.0           5.2          2.0  virginica\n",
            "148           6.2          3.4           5.4          2.3  virginica\n",
            "149           5.9          3.0           5.1          1.8  virginica\n",
            "\n",
            "[150 rows x 5 columns]\n"
          ],
          "name": "stdout"
        }
      ]
    },
    {
      "cell_type": "markdown",
      "metadata": {
        "id": "LHwX9M0XPOeR"
      },
      "source": [
        "After I print the dataset, and compare to the X and y I have before, X include column sepal_length, sepal_width, petal_length and petal_, which is everything expect the lats column.\n",
        "y should be corresponde to different sepecis, there are three number, 0, 1 and 2, but we only see two species, so I implement pandas to see the middle of the row."
      ]
    },
    {
      "cell_type": "code",
      "metadata": {
        "colab": {
          "base_uri": "https://localhost:8080/",
          "height": 669
        },
        "id": "X6KS6EOZNmL_",
        "outputId": "d762d89a-ba46-4bdd-be84-e32970067f9d"
      },
      "source": [
        "df = pd.DataFrame(data)\n",
        "display(df.iloc[40:60]) "
      ],
      "execution_count": 5,
      "outputs": [
        {
          "output_type": "display_data",
          "data": {
            "text/html": [
              "<div>\n",
              "<style scoped>\n",
              "    .dataframe tbody tr th:only-of-type {\n",
              "        vertical-align: middle;\n",
              "    }\n",
              "\n",
              "    .dataframe tbody tr th {\n",
              "        vertical-align: top;\n",
              "    }\n",
              "\n",
              "    .dataframe thead th {\n",
              "        text-align: right;\n",
              "    }\n",
              "</style>\n",
              "<table border=\"1\" class=\"dataframe\">\n",
              "  <thead>\n",
              "    <tr style=\"text-align: right;\">\n",
              "      <th></th>\n",
              "      <th>sepal_length</th>\n",
              "      <th>sepal_width</th>\n",
              "      <th>petal_length</th>\n",
              "      <th>petal_width</th>\n",
              "      <th>species</th>\n",
              "    </tr>\n",
              "  </thead>\n",
              "  <tbody>\n",
              "    <tr>\n",
              "      <th>40</th>\n",
              "      <td>5.0</td>\n",
              "      <td>3.5</td>\n",
              "      <td>1.3</td>\n",
              "      <td>0.3</td>\n",
              "      <td>setosa</td>\n",
              "    </tr>\n",
              "    <tr>\n",
              "      <th>41</th>\n",
              "      <td>4.5</td>\n",
              "      <td>2.3</td>\n",
              "      <td>1.3</td>\n",
              "      <td>0.3</td>\n",
              "      <td>setosa</td>\n",
              "    </tr>\n",
              "    <tr>\n",
              "      <th>42</th>\n",
              "      <td>4.4</td>\n",
              "      <td>3.2</td>\n",
              "      <td>1.3</td>\n",
              "      <td>0.2</td>\n",
              "      <td>setosa</td>\n",
              "    </tr>\n",
              "    <tr>\n",
              "      <th>43</th>\n",
              "      <td>5.0</td>\n",
              "      <td>3.5</td>\n",
              "      <td>1.6</td>\n",
              "      <td>0.6</td>\n",
              "      <td>setosa</td>\n",
              "    </tr>\n",
              "    <tr>\n",
              "      <th>44</th>\n",
              "      <td>5.1</td>\n",
              "      <td>3.8</td>\n",
              "      <td>1.9</td>\n",
              "      <td>0.4</td>\n",
              "      <td>setosa</td>\n",
              "    </tr>\n",
              "    <tr>\n",
              "      <th>45</th>\n",
              "      <td>4.8</td>\n",
              "      <td>3.0</td>\n",
              "      <td>1.4</td>\n",
              "      <td>0.3</td>\n",
              "      <td>setosa</td>\n",
              "    </tr>\n",
              "    <tr>\n",
              "      <th>46</th>\n",
              "      <td>5.1</td>\n",
              "      <td>3.8</td>\n",
              "      <td>1.6</td>\n",
              "      <td>0.2</td>\n",
              "      <td>setosa</td>\n",
              "    </tr>\n",
              "    <tr>\n",
              "      <th>47</th>\n",
              "      <td>4.6</td>\n",
              "      <td>3.2</td>\n",
              "      <td>1.4</td>\n",
              "      <td>0.2</td>\n",
              "      <td>setosa</td>\n",
              "    </tr>\n",
              "    <tr>\n",
              "      <th>48</th>\n",
              "      <td>5.3</td>\n",
              "      <td>3.7</td>\n",
              "      <td>1.5</td>\n",
              "      <td>0.2</td>\n",
              "      <td>setosa</td>\n",
              "    </tr>\n",
              "    <tr>\n",
              "      <th>49</th>\n",
              "      <td>5.0</td>\n",
              "      <td>3.3</td>\n",
              "      <td>1.4</td>\n",
              "      <td>0.2</td>\n",
              "      <td>setosa</td>\n",
              "    </tr>\n",
              "    <tr>\n",
              "      <th>50</th>\n",
              "      <td>7.0</td>\n",
              "      <td>3.2</td>\n",
              "      <td>4.7</td>\n",
              "      <td>1.4</td>\n",
              "      <td>versicolor</td>\n",
              "    </tr>\n",
              "    <tr>\n",
              "      <th>51</th>\n",
              "      <td>6.4</td>\n",
              "      <td>3.2</td>\n",
              "      <td>4.5</td>\n",
              "      <td>1.5</td>\n",
              "      <td>versicolor</td>\n",
              "    </tr>\n",
              "    <tr>\n",
              "      <th>52</th>\n",
              "      <td>6.9</td>\n",
              "      <td>3.1</td>\n",
              "      <td>4.9</td>\n",
              "      <td>1.5</td>\n",
              "      <td>versicolor</td>\n",
              "    </tr>\n",
              "    <tr>\n",
              "      <th>53</th>\n",
              "      <td>5.5</td>\n",
              "      <td>2.3</td>\n",
              "      <td>4.0</td>\n",
              "      <td>1.3</td>\n",
              "      <td>versicolor</td>\n",
              "    </tr>\n",
              "    <tr>\n",
              "      <th>54</th>\n",
              "      <td>6.5</td>\n",
              "      <td>2.8</td>\n",
              "      <td>4.6</td>\n",
              "      <td>1.5</td>\n",
              "      <td>versicolor</td>\n",
              "    </tr>\n",
              "    <tr>\n",
              "      <th>55</th>\n",
              "      <td>5.7</td>\n",
              "      <td>2.8</td>\n",
              "      <td>4.5</td>\n",
              "      <td>1.3</td>\n",
              "      <td>versicolor</td>\n",
              "    </tr>\n",
              "    <tr>\n",
              "      <th>56</th>\n",
              "      <td>6.3</td>\n",
              "      <td>3.3</td>\n",
              "      <td>4.7</td>\n",
              "      <td>1.6</td>\n",
              "      <td>versicolor</td>\n",
              "    </tr>\n",
              "    <tr>\n",
              "      <th>57</th>\n",
              "      <td>4.9</td>\n",
              "      <td>2.4</td>\n",
              "      <td>3.3</td>\n",
              "      <td>1.0</td>\n",
              "      <td>versicolor</td>\n",
              "    </tr>\n",
              "    <tr>\n",
              "      <th>58</th>\n",
              "      <td>6.6</td>\n",
              "      <td>2.9</td>\n",
              "      <td>4.6</td>\n",
              "      <td>1.3</td>\n",
              "      <td>versicolor</td>\n",
              "    </tr>\n",
              "    <tr>\n",
              "      <th>59</th>\n",
              "      <td>5.2</td>\n",
              "      <td>2.7</td>\n",
              "      <td>3.9</td>\n",
              "      <td>1.4</td>\n",
              "      <td>versicolor</td>\n",
              "    </tr>\n",
              "  </tbody>\n",
              "</table>\n",
              "</div>"
            ],
            "text/plain": [
              "    sepal_length  sepal_width  petal_length  petal_width     species\n",
              "40           5.0          3.5           1.3          0.3      setosa\n",
              "41           4.5          2.3           1.3          0.3      setosa\n",
              "42           4.4          3.2           1.3          0.2      setosa\n",
              "43           5.0          3.5           1.6          0.6      setosa\n",
              "44           5.1          3.8           1.9          0.4      setosa\n",
              "45           4.8          3.0           1.4          0.3      setosa\n",
              "46           5.1          3.8           1.6          0.2      setosa\n",
              "47           4.6          3.2           1.4          0.2      setosa\n",
              "48           5.3          3.7           1.5          0.2      setosa\n",
              "49           5.0          3.3           1.4          0.2      setosa\n",
              "50           7.0          3.2           4.7          1.4  versicolor\n",
              "51           6.4          3.2           4.5          1.5  versicolor\n",
              "52           6.9          3.1           4.9          1.5  versicolor\n",
              "53           5.5          2.3           4.0          1.3  versicolor\n",
              "54           6.5          2.8           4.6          1.5  versicolor\n",
              "55           5.7          2.8           4.5          1.3  versicolor\n",
              "56           6.3          3.3           4.7          1.6  versicolor\n",
              "57           4.9          2.4           3.3          1.0  versicolor\n",
              "58           6.6          2.9           4.6          1.3  versicolor\n",
              "59           5.2          2.7           3.9          1.4  versicolor"
            ]
          },
          "metadata": {
            "tags": []
          }
        }
      ]
    },
    {
      "cell_type": "markdown",
      "metadata": {
        "id": "FUIAfeWhMe_X"
      },
      "source": [
        "Base on the information, 0 = setosa, 1 = versicolor, and 2 = virginica in y"
      ]
    },
    {
      "cell_type": "code",
      "metadata": {
        "colab": {
          "base_uri": "https://localhost:8080/",
          "height": 300
        },
        "id": "C1PdFa0uKmxZ",
        "outputId": "ee3dd970-855f-46bd-9a7c-2fa86d63399b"
      },
      "source": [
        "# After get to knowing this data, I start to make plot to represent the relationship between each feature and species\n",
        "# X as my feature, and the y is sepcies like itself\n",
        "plt.xlabel(\"Feature\")\n",
        "plt.ylabel(\"Sepcies\")"
      ],
      "execution_count": 6,
      "outputs": [
        {
          "output_type": "execute_result",
          "data": {
            "text/plain": [
              "Text(0, 0.5, 'Sepcies')"
            ]
          },
          "metadata": {
            "tags": []
          },
          "execution_count": 6
        },
        {
          "output_type": "display_data",
          "data": {
            "image/png": "[encoded data removed]",
            "text/plain": [
              "<Figure size 432x288 with 1 Axes>"
            ]
          },
          "metadata": {
            "tags": [],
            "needs_background": "light"
          }
        }
      ]
    },
    {
      "cell_type": "code",
      "metadata": {
        "id": "pCQhrJMoKocP",
        "colab": {
          "base_uri": "https://localhost:8080/",
          "height": 265
        },
        "outputId": "20d083b9-ce1b-404e-f992-f2af86d68d77"
      },
      "source": [
        "# Import the data to the plot\n",
        "# Each feature is corresponde to different sepcies\n",
        "# And I used scatter for the plot\n",
        "\n",
        "pltX = data.loc[:,'sepal_length']\n",
        "pltY = data.loc[:, 'species']\n",
        "plt.scatter(pltX, pltY, color = 'black', Label = 'sepal_length')\n",
        "\n",
        "pltX = data.loc[:,'sepal_width']\n",
        "pltY = data.loc[:, 'species']\n",
        "plt.scatter(pltX, pltY, color = 'green', Label = 'sepal_width')\n",
        "\n",
        "pltX = data.loc[:,'petal_length']\n",
        "pltY = data.loc[:, 'species']\n",
        "plt.scatter(pltX, pltY, color = 'orange', Label = 'petal_length')\n",
        "\n",
        "pltX = data.loc[:,'petal_width']\n",
        "pltY = data.loc[:, 'species']\n",
        "plt.scatter(pltX, pltY, color = 'purple', Label = 'petal_width')\n",
        "\n",
        "plt.legend(loc=4, prop={'size':8})\n",
        "plt.show()"
      ],
      "execution_count": 7,
      "outputs": [
        {
          "output_type": "display_data",
          "data": {
            "image/png": "[encoded data removed]",
            "text/plain": [
              "<Figure size 432x288 with 1 Axes>"
            ]
          },
          "metadata": {
            "tags": [],
            "needs_background": "light"
          }
        }
      ]
    },
    {
      "cell_type": "markdown",
      "metadata": {
        "id": "UB3nnUarV2rJ"
      },
      "source": [
        "The grapy shows the relationship between sepcies and features include sepal_length, sepal_width, petal_length and petal_width.\n",
        "\n",
        "The next step is build up the model to train data and test data\n",
        "I set 80% data to training and 20% to testing"
      ]
    },
    {
      "cell_type": "code",
      "metadata": {
        "id": "f165-L5gKie4"
      },
      "source": [
        "x_train, x_test, y_train, y_test = train_test_split(X,y, test_size=0.2, random_state=42)\n"
      ],
      "execution_count": 8,
      "outputs": []
    },
    {
      "cell_type": "markdown",
      "metadata": {
        "id": "gKW9t4sMiD_N"
      },
      "source": [
        "Build the model with Logistic Regression."
      ]
    },
    {
      "cell_type": "code",
      "metadata": {
        "id": "Psz6QSfqiYnX"
      },
      "source": [
        "#Import the library that I need for logistic regression.\n",
        "from sklearn.linear_model import LogisticRegression"
      ],
      "execution_count": 9,
      "outputs": []
    },
    {
      "cell_type": "code",
      "metadata": {
        "id": "zGb3KlhMI5zC",
        "colab": {
          "base_uri": "https://localhost:8080/"
        },
        "outputId": "c67717cf-5060-471c-d388-8e313394385b"
      },
      "source": [
        "#Trainning and teesting data\n",
        "model = LogisticRegression()\n",
        "model.fit(x_train, y_train)\n",
        "predictions = model.predict(x_test)\n",
        "print(predictions)"
      ],
      "execution_count": 10,
      "outputs": [
        {
          "output_type": "stream",
          "text": [
            "[1 0 2 1 1 0 1 2 1 1 2 0 0 0 0 1 2 1 1 2 0 2 0 2 2 2 2 2 0 0]\n"
          ],
          "name": "stdout"
        },
        {
          "output_type": "stream",
          "text": [
            "/usr/local/lib/python3.7/dist-packages/sklearn/linear_model/_logistic.py:940: ConvergenceWarning: lbfgs failed to converge (status=1):\n",
            "STOP: TOTAL NO. of ITERATIONS REACHED LIMIT.\n",
            "\n",
            "Increase the number of iterations (max_iter) or scale the data as shown in:\n",
            "    https://scikit-learn.org/stable/modules/preprocessing.html\n",
            "Please also refer to the documentation for alternative solver options:\n",
            "    https://scikit-learn.org/stable/modules/linear_model.html#logistic-regression\n",
            "  extra_warning_msg=_LOGISTIC_SOLVER_CONVERGENCE_MSG)\n"
          ],
          "name": "stderr"
        }
      ]
    },
    {
      "cell_type": "markdown",
      "metadata": {
        "id": "d1EGQK2bg4PO"
      },
      "source": [
        "This list is the result of prediction, 0 is setosa, 1 is versicolor and 2 is virginica.\n",
        "Now, I want to see how precise and accurate it is"
      ]
    },
    {
      "cell_type": "code",
      "metadata": {
        "colab": {
          "base_uri": "https://localhost:8080/"
        },
        "id": "baHbMLR8fR4N",
        "outputId": "492a61ee-ba70-453a-82a8-a2ae9f0cb9d5"
      },
      "source": [
        "print(classification_report(y_test, predictions))"
      ],
      "execution_count": 11,
      "outputs": [
        {
          "output_type": "stream",
          "text": [
            "              precision    recall  f1-score   support\n",
            "\n",
            "           0       1.00      1.00      1.00        10\n",
            "           1       1.00      1.00      1.00         9\n",
            "           2       1.00      1.00      1.00        11\n",
            "\n",
            "    accuracy                           1.00        30\n",
            "   macro avg       1.00      1.00      1.00        30\n",
            "weighted avg       1.00      1.00      1.00        30\n",
            "\n"
          ],
          "name": "stdout"
        }
      ]
    },
    {
      "cell_type": "markdown",
      "metadata": {
        "id": "myJyDgZEhb6a"
      },
      "source": [
        "From this report, the precision, accuracy, recall so on are 1.00, which means, there is 100% correct for the prediction hit the target."
      ]
    },
    {
      "cell_type": "markdown",
      "metadata": {
        "id": "VxETHG2zibs_"
      },
      "source": [
        "---------------------------------------------------------------------------------"
      ]
    },
    {
      "cell_type": "markdown",
      "metadata": {
        "id": "kpgI51d8icRG"
      },
      "source": [
        "Build model with linear Regression."
      ]
    },
    {
      "cell_type": "code",
      "metadata": {
        "id": "QklsduiIiojL"
      },
      "source": [
        "# Import the Library that I need.\n",
        "\n",
        "from sklearn import linear_model\n",
        "from sklearn.metrics import mean_squared_error, r2_score\n"
      ],
      "execution_count": 12,
      "outputs": []
    },
    {
      "cell_type": "code",
      "metadata": {
        "id": "ixgWoh50jYfu"
      },
      "source": [
        "model_Linear = linear_model.LinearRegression()"
      ],
      "execution_count": 13,
      "outputs": []
    },
    {
      "cell_type": "code",
      "metadata": {
        "colab": {
          "base_uri": "https://localhost:8080/"
        },
        "id": "G6__ume3jzGv",
        "outputId": "76275ad7-91cd-4858-f3ca-9667a77548fd"
      },
      "source": [
        "# Fitting the model with trainning data\n",
        "model_Linear.fit(x_train, y_train)"
      ],
      "execution_count": 14,
      "outputs": [
        {
          "output_type": "execute_result",
          "data": {
            "text/plain": [
              "LinearRegression(copy_X=True, fit_intercept=True, n_jobs=None, normalize=False)"
            ]
          },
          "metadata": {
            "tags": []
          },
          "execution_count": 14
        }
      ]
    },
    {
      "cell_type": "code",
      "metadata": {
        "colab": {
          "base_uri": "https://localhost:8080/"
        },
        "id": "f47Y6i3ukFA9",
        "outputId": "b4628d94-8615-4d65-cc74-403bb3da7f44"
      },
      "source": [
        "# Now we can make the prediction by this linear Regression model\n",
        "predictions_Linear = model_Linear.predict(x_test)\n",
        "print(predictions_Linear)"
      ],
      "execution_count": 15,
      "outputs": [
        {
          "output_type": "stream",
          "text": [
            "[ 1.23071715 -0.04010441  2.21970287  1.34966889  1.28429336  0.02248402\n",
            "  1.05726124  1.82403704  1.36824643  1.06766437  1.70031437 -0.07357413\n",
            " -0.15562919 -0.06569402 -0.02128628  1.39659966  2.00022876  1.04812731\n",
            "  1.28102792  1.97283506  0.03184612  1.59830192  0.09450931  1.91807547\n",
            "  1.83296682  1.87877315  1.78781234  2.03362373  0.03594506  0.02619043]\n"
          ],
          "name": "stdout"
        }
      ]
    },
    {
      "cell_type": "markdown",
      "metadata": {
        "id": "L-_Uu8cOkpkg"
      },
      "source": [
        "Compare the predictions between the linear regression and logistic regression, One is ouput floating point and the other is ouput the integer.\n",
        "[1 0 2 1 1 0 1 2 1 1 2 0 0 0 0 1 2 1 1 2 0 2 0 2 2 2 2 2 0 0]( Result of logistic regression)"
      ]
    },
    {
      "cell_type": "code",
      "metadata": {
        "colab": {
          "base_uri": "https://localhost:8080/"
        },
        "id": "lNqnxBCalAtZ",
        "outputId": "7f6fa9cc-c8ae-42b7-cdda-12cd39f0cda1"
      },
      "source": [
        "# Now I want to see how the performance of this linear regression\n",
        "print(\"coefficients: \", model_Linear.coef_)\n",
        "print(\"Intercept: \",model.intercept_ )\n",
        "print(\"Mean squared error (MSE): %.2f\" % mean_squared_error(y_test, predictions_Linear))\n",
        "print(\"Coefficients of determination (R^2): %.2f\" % r2_score(y_test, predictions_Linear))"
      ],
      "execution_count": 16,
      "outputs": [
        {
          "output_type": "stream",
          "text": [
            "coefficients:  [-0.11633479 -0.05977785  0.25491375  0.54759598]\n",
            "Intercept:  [  9.03252831   1.84062834 -10.87315665]\n",
            "Mean squared error (MSE): 0.04\n",
            "Coefficients of determination (R^2): 0.95\n"
          ],
          "name": "stdout"
        }
      ]
    },
    {
      "cell_type": "markdown",
      "metadata": {
        "id": "-1wIkQIHslLD"
      },
      "source": [
        "From this performance, the model is good for prediction, the mean square error is 0.04(The smaller the means squared error, the closer you are to finding the line of best fit).\n",
        "And the coefficients of determination is 0.95(Generally, a higher coefficient indicates a better fit for the model).\n",
        "However, the result is formatting by floating point, it is less clear and visual compare to logistic regression."
      ]
    },
    {
      "cell_type": "markdown",
      "metadata": {
        "id": "DJXLIULgtjAR"
      },
      "source": [
        "--------------------------------------------------------------------------------\n"
      ]
    },
    {
      "cell_type": "markdown",
      "metadata": {
        "id": "S1JGzJbEuVU0"
      },
      "source": [
        "Build model with Neural Network"
      ]
    },
    {
      "cell_type": "markdown",
      "metadata": {
        "id": "ZzRIEPgYhp1J"
      },
      "source": [
        "Import the library that Neural Network model needs"
      ]
    },
    {
      "cell_type": "code",
      "metadata": {
        "id": "1XZuR9Bstne0"
      },
      "source": [
        "from tensorflow import keras\n",
        "from keras.models import Sequential\n",
        "from keras.layers import Dense\n",
        "from keras.utils import to_categorical\n",
        "from sklearn import preprocessing"
      ],
      "execution_count": 17,
      "outputs": []
    },
    {
      "cell_type": "code",
      "metadata": {
        "id": "cYQAeJ_os42H"
      },
      "source": [
        "# Redefine and split the data\n",
        "iris = load_iris()\n",
        "x_Neural = iris['data']\n",
        "y_Neural = to_categorical(iris['target'])\n",
        "x_train, x_test, y_train, y_test = train_test_split(x_Neural, y_Neural, test_size=0.2, random_state=42)"
      ],
      "execution_count": 18,
      "outputs": []
    },
    {
      "cell_type": "code",
      "metadata": {
        "id": "XLjTI7_Rm3ph"
      },
      "source": [
        "model_Neural = Sequential()\n",
        "\n",
        "# Add layout,\n",
        "# Since we have 4 different attribute,input dimemtion is 4 and use rectified linear unit activation function(relu) and softmax function.\n",
        "\n",
        "model_Neural.add(Dense(6, input_dim = 4, activation='relu'))\n",
        "model_Neural.add(Dense(3, activation='softmax'))\n",
        "model_Neural.compile(loss='categorical_crossentropy', optimizer = 'adam', metrics=['accuracy'])"
      ],
      "execution_count": 19,
      "outputs": []
    },
    {
      "cell_type": "code",
      "metadata": {
        "colab": {
          "base_uri": "https://localhost:8080/"
        },
        "id": "a-5Url8arMRI",
        "outputId": "b6dcd37b-b07b-46ad-e6d7-554dae4f1da0"
      },
      "source": [
        "#fitting the model\n",
        "model_Neural.fit(x_train, y_train, validation_data=(x_test, y_test), epochs = 200, batch_size = 10)"
      ],
      "execution_count": 20,
      "outputs": [
        {
          "output_type": "stream",
          "text": [
            "Epoch 1/200\n",
            "12/12 [==============================] - 1s 58ms/step - loss: 1.3121 - accuracy: 0.3251 - val_loss: 1.1477 - val_accuracy: 0.3667\n",
            "Epoch 2/200\n",
            "12/12 [==============================] - 0s 5ms/step - loss: 1.2471 - accuracy: 0.3012 - val_loss: 1.0865 - val_accuracy: 0.3667\n",
            "Epoch 3/200\n",
            "12/12 [==============================] - 0s 5ms/step - loss: 1.0970 - accuracy: 0.3332 - val_loss: 1.0448 - val_accuracy: 0.3667\n",
            "Epoch 4/200\n",
            "12/12 [==============================] - 0s 5ms/step - loss: 1.0921 - accuracy: 0.3619 - val_loss: 1.0142 - val_accuracy: 0.4000\n",
            "Epoch 5/200\n",
            "12/12 [==============================] - 0s 5ms/step - loss: 1.0612 - accuracy: 0.4392 - val_loss: 0.9896 - val_accuracy: 0.4333\n",
            "Epoch 6/200\n",
            "12/12 [==============================] - 0s 6ms/step - loss: 1.0426 - accuracy: 0.4766 - val_loss: 0.9697 - val_accuracy: 0.4667\n",
            "Epoch 7/200\n",
            "12/12 [==============================] - 0s 6ms/step - loss: 1.0033 - accuracy: 0.5925 - val_loss: 0.9535 - val_accuracy: 0.5667\n",
            "Epoch 8/200\n",
            "12/12 [==============================] - 0s 5ms/step - loss: 0.9191 - accuracy: 0.6849 - val_loss: 0.9395 - val_accuracy: 0.6000\n",
            "Epoch 9/200\n",
            "12/12 [==============================] - 0s 5ms/step - loss: 0.9424 - accuracy: 0.6192 - val_loss: 0.9255 - val_accuracy: 0.6667\n",
            "Epoch 10/200\n",
            "12/12 [==============================] - 0s 5ms/step - loss: 0.9349 - accuracy: 0.6122 - val_loss: 0.9121 - val_accuracy: 0.7000\n",
            "Epoch 11/200\n",
            "12/12 [==============================] - 0s 5ms/step - loss: 0.9306 - accuracy: 0.6519 - val_loss: 0.8981 - val_accuracy: 0.7000\n",
            "Epoch 12/200\n",
            "12/12 [==============================] - 0s 5ms/step - loss: 0.8948 - accuracy: 0.6647 - val_loss: 0.8851 - val_accuracy: 0.7000\n",
            "Epoch 13/200\n",
            "12/12 [==============================] - 0s 5ms/step - loss: 0.8788 - accuracy: 0.6764 - val_loss: 0.8719 - val_accuracy: 0.7000\n",
            "Epoch 14/200\n",
            "12/12 [==============================] - 0s 5ms/step - loss: 0.8703 - accuracy: 0.6757 - val_loss: 0.8589 - val_accuracy: 0.7000\n",
            "Epoch 15/200\n",
            "12/12 [==============================] - 0s 5ms/step - loss: 0.8511 - accuracy: 0.6804 - val_loss: 0.8451 - val_accuracy: 0.7000\n",
            "Epoch 16/200\n",
            "12/12 [==============================] - 0s 5ms/step - loss: 0.8414 - accuracy: 0.6372 - val_loss: 0.8316 - val_accuracy: 0.7000\n",
            "Epoch 17/200\n",
            "12/12 [==============================] - 0s 5ms/step - loss: 0.8069 - accuracy: 0.6900 - val_loss: 0.8182 - val_accuracy: 0.7000\n",
            "Epoch 18/200\n",
            "12/12 [==============================] - 0s 5ms/step - loss: 0.8012 - accuracy: 0.6952 - val_loss: 0.8050 - val_accuracy: 0.7000\n",
            "Epoch 19/200\n",
            "12/12 [==============================] - 0s 5ms/step - loss: 0.8305 - accuracy: 0.5935 - val_loss: 0.7936 - val_accuracy: 0.7000\n",
            "Epoch 20/200\n",
            "12/12 [==============================] - 0s 6ms/step - loss: 0.7915 - accuracy: 0.6620 - val_loss: 0.7801 - val_accuracy: 0.7333\n",
            "Epoch 21/200\n",
            "12/12 [==============================] - 0s 5ms/step - loss: 0.7789 - accuracy: 0.6500 - val_loss: 0.7672 - val_accuracy: 0.7667\n",
            "Epoch 22/200\n",
            "12/12 [==============================] - 0s 6ms/step - loss: 0.7701 - accuracy: 0.6448 - val_loss: 0.7540 - val_accuracy: 0.7333\n",
            "Epoch 23/200\n",
            "12/12 [==============================] - 0s 5ms/step - loss: 0.7496 - accuracy: 0.7126 - val_loss: 0.7406 - val_accuracy: 0.7000\n",
            "Epoch 24/200\n",
            "12/12 [==============================] - 0s 6ms/step - loss: 0.7279 - accuracy: 0.7335 - val_loss: 0.7280 - val_accuracy: 0.7333\n",
            "Epoch 25/200\n",
            "12/12 [==============================] - 0s 5ms/step - loss: 0.7397 - accuracy: 0.6496 - val_loss: 0.7170 - val_accuracy: 0.7333\n",
            "Epoch 26/200\n",
            "12/12 [==============================] - 0s 6ms/step - loss: 0.7269 - accuracy: 0.7164 - val_loss: 0.7055 - val_accuracy: 0.7333\n",
            "Epoch 27/200\n",
            "12/12 [==============================] - 0s 6ms/step - loss: 0.7100 - accuracy: 0.7014 - val_loss: 0.6948 - val_accuracy: 0.7667\n",
            "Epoch 28/200\n",
            "12/12 [==============================] - 0s 5ms/step - loss: 0.6856 - accuracy: 0.7165 - val_loss: 0.6829 - val_accuracy: 0.7667\n",
            "Epoch 29/200\n",
            "12/12 [==============================] - 0s 6ms/step - loss: 0.6841 - accuracy: 0.7033 - val_loss: 0.6716 - val_accuracy: 0.7333\n",
            "Epoch 30/200\n",
            "12/12 [==============================] - 0s 6ms/step - loss: 0.6642 - accuracy: 0.7293 - val_loss: 0.6615 - val_accuracy: 0.7667\n",
            "Epoch 31/200\n",
            "12/12 [==============================] - 0s 5ms/step - loss: 0.6812 - accuracy: 0.7047 - val_loss: 0.6520 - val_accuracy: 0.7667\n",
            "Epoch 32/200\n",
            "12/12 [==============================] - 0s 5ms/step - loss: 0.6181 - accuracy: 0.7745 - val_loss: 0.6413 - val_accuracy: 0.7667\n",
            "Epoch 33/200\n",
            "12/12 [==============================] - 0s 5ms/step - loss: 0.6576 - accuracy: 0.6564 - val_loss: 0.6338 - val_accuracy: 0.8000\n",
            "Epoch 34/200\n",
            "12/12 [==============================] - 0s 5ms/step - loss: 0.6381 - accuracy: 0.7009 - val_loss: 0.6235 - val_accuracy: 0.7667\n",
            "Epoch 35/200\n",
            "12/12 [==============================] - 0s 5ms/step - loss: 0.6335 - accuracy: 0.7062 - val_loss: 0.6147 - val_accuracy: 0.7667\n",
            "Epoch 36/200\n",
            "12/12 [==============================] - 0s 6ms/step - loss: 0.6159 - accuracy: 0.7249 - val_loss: 0.6056 - val_accuracy: 0.7667\n",
            "Epoch 37/200\n",
            "12/12 [==============================] - 0s 6ms/step - loss: 0.6092 - accuracy: 0.7137 - val_loss: 0.5981 - val_accuracy: 0.8000\n",
            "Epoch 38/200\n",
            "12/12 [==============================] - 0s 5ms/step - loss: 0.6068 - accuracy: 0.7649 - val_loss: 0.5899 - val_accuracy: 0.8000\n",
            "Epoch 39/200\n",
            "12/12 [==============================] - 0s 5ms/step - loss: 0.5721 - accuracy: 0.7694 - val_loss: 0.5828 - val_accuracy: 0.8000\n",
            "Epoch 40/200\n",
            "12/12 [==============================] - 0s 6ms/step - loss: 0.5767 - accuracy: 0.8393 - val_loss: 0.5747 - val_accuracy: 0.8000\n",
            "Epoch 41/200\n",
            "12/12 [==============================] - 0s 5ms/step - loss: 0.5782 - accuracy: 0.7601 - val_loss: 0.5679 - val_accuracy: 0.8000\n",
            "Epoch 42/200\n",
            "12/12 [==============================] - 0s 5ms/step - loss: 0.5608 - accuracy: 0.8539 - val_loss: 0.5610 - val_accuracy: 0.8000\n",
            "Epoch 43/200\n",
            "12/12 [==============================] - 0s 5ms/step - loss: 0.5569 - accuracy: 0.8560 - val_loss: 0.5538 - val_accuracy: 0.8000\n",
            "Epoch 44/200\n",
            "12/12 [==============================] - 0s 6ms/step - loss: 0.5419 - accuracy: 0.8225 - val_loss: 0.5470 - val_accuracy: 0.8000\n",
            "Epoch 45/200\n",
            "12/12 [==============================] - 0s 5ms/step - loss: 0.5580 - accuracy: 0.8046 - val_loss: 0.5419 - val_accuracy: 0.8667\n",
            "Epoch 46/200\n",
            "12/12 [==============================] - 0s 7ms/step - loss: 0.5350 - accuracy: 0.8378 - val_loss: 0.5350 - val_accuracy: 0.8667\n",
            "Epoch 47/200\n",
            "12/12 [==============================] - 0s 7ms/step - loss: 0.5373 - accuracy: 0.8404 - val_loss: 0.5293 - val_accuracy: 0.8667\n",
            "Epoch 48/200\n",
            "12/12 [==============================] - 0s 6ms/step - loss: 0.5427 - accuracy: 0.8851 - val_loss: 0.5238 - val_accuracy: 0.8667\n",
            "Epoch 49/200\n",
            "12/12 [==============================] - 0s 5ms/step - loss: 0.5359 - accuracy: 0.8872 - val_loss: 0.5185 - val_accuracy: 0.9333\n",
            "Epoch 50/200\n",
            "12/12 [==============================] - 0s 5ms/step - loss: 0.5130 - accuracy: 0.8713 - val_loss: 0.5132 - val_accuracy: 0.9333\n",
            "Epoch 51/200\n",
            "12/12 [==============================] - 0s 5ms/step - loss: 0.5266 - accuracy: 0.8673 - val_loss: 0.5077 - val_accuracy: 0.9333\n",
            "Epoch 52/200\n",
            "12/12 [==============================] - 0s 5ms/step - loss: 0.5598 - accuracy: 0.8514 - val_loss: 0.5032 - val_accuracy: 0.9333\n",
            "Epoch 53/200\n",
            "12/12 [==============================] - 0s 5ms/step - loss: 0.5228 - accuracy: 0.8654 - val_loss: 0.4970 - val_accuracy: 0.9000\n",
            "Epoch 54/200\n",
            "12/12 [==============================] - 0s 5ms/step - loss: 0.5018 - accuracy: 0.8791 - val_loss: 0.4928 - val_accuracy: 0.9333\n",
            "Epoch 55/200\n",
            "12/12 [==============================] - 0s 5ms/step - loss: 0.4756 - accuracy: 0.9594 - val_loss: 0.4870 - val_accuracy: 0.9333\n",
            "Epoch 56/200\n",
            "12/12 [==============================] - 0s 6ms/step - loss: 0.5130 - accuracy: 0.8898 - val_loss: 0.4833 - val_accuracy: 0.9333\n",
            "Epoch 57/200\n",
            "12/12 [==============================] - 0s 5ms/step - loss: 0.4798 - accuracy: 0.9178 - val_loss: 0.4789 - val_accuracy: 0.9333\n",
            "Epoch 58/200\n",
            "12/12 [==============================] - 0s 6ms/step - loss: 0.5007 - accuracy: 0.9222 - val_loss: 0.4739 - val_accuracy: 0.9333\n",
            "Epoch 59/200\n",
            "12/12 [==============================] - 0s 5ms/step - loss: 0.4681 - accuracy: 0.9459 - val_loss: 0.4692 - val_accuracy: 0.9333\n",
            "Epoch 60/200\n",
            "12/12 [==============================] - 0s 6ms/step - loss: 0.4774 - accuracy: 0.9285 - val_loss: 0.4654 - val_accuracy: 0.9333\n",
            "Epoch 61/200\n",
            "12/12 [==============================] - 0s 6ms/step - loss: 0.4817 - accuracy: 0.9278 - val_loss: 0.4609 - val_accuracy: 0.9333\n",
            "Epoch 62/200\n",
            "12/12 [==============================] - 0s 6ms/step - loss: 0.4381 - accuracy: 0.9511 - val_loss: 0.4574 - val_accuracy: 0.9333\n",
            "Epoch 63/200\n",
            "12/12 [==============================] - 0s 5ms/step - loss: 0.4670 - accuracy: 0.9480 - val_loss: 0.4533 - val_accuracy: 0.9333\n",
            "Epoch 64/200\n",
            "12/12 [==============================] - 0s 6ms/step - loss: 0.4587 - accuracy: 0.9408 - val_loss: 0.4498 - val_accuracy: 0.9333\n",
            "Epoch 65/200\n",
            "12/12 [==============================] - 0s 5ms/step - loss: 0.4432 - accuracy: 0.9217 - val_loss: 0.4459 - val_accuracy: 0.9333\n",
            "Epoch 66/200\n",
            "12/12 [==============================] - 0s 5ms/step - loss: 0.4788 - accuracy: 0.9508 - val_loss: 0.4417 - val_accuracy: 0.9333\n",
            "Epoch 67/200\n",
            "12/12 [==============================] - 0s 5ms/step - loss: 0.4349 - accuracy: 0.9386 - val_loss: 0.4381 - val_accuracy: 0.9333\n",
            "Epoch 68/200\n",
            "12/12 [==============================] - 0s 5ms/step - loss: 0.4716 - accuracy: 0.9141 - val_loss: 0.4340 - val_accuracy: 0.9333\n",
            "Epoch 69/200\n",
            "12/12 [==============================] - 0s 5ms/step - loss: 0.4059 - accuracy: 0.9604 - val_loss: 0.4300 - val_accuracy: 0.9333\n",
            "Epoch 70/200\n",
            "12/12 [==============================] - 0s 5ms/step - loss: 0.4408 - accuracy: 0.9661 - val_loss: 0.4260 - val_accuracy: 0.9333\n",
            "Epoch 71/200\n",
            "12/12 [==============================] - 0s 5ms/step - loss: 0.4536 - accuracy: 0.9402 - val_loss: 0.4237 - val_accuracy: 0.9333\n",
            "Epoch 72/200\n",
            "12/12 [==============================] - 0s 5ms/step - loss: 0.4379 - accuracy: 0.9502 - val_loss: 0.4200 - val_accuracy: 0.9333\n",
            "Epoch 73/200\n",
            "12/12 [==============================] - 0s 5ms/step - loss: 0.4348 - accuracy: 0.9419 - val_loss: 0.4160 - val_accuracy: 0.9333\n",
            "Epoch 74/200\n",
            "12/12 [==============================] - 0s 6ms/step - loss: 0.4423 - accuracy: 0.9118 - val_loss: 0.4130 - val_accuracy: 0.9333\n",
            "Epoch 75/200\n",
            "12/12 [==============================] - 0s 5ms/step - loss: 0.4348 - accuracy: 0.9162 - val_loss: 0.4100 - val_accuracy: 0.9333\n",
            "Epoch 76/200\n",
            "12/12 [==============================] - 0s 5ms/step - loss: 0.4280 - accuracy: 0.9691 - val_loss: 0.4058 - val_accuracy: 0.9333\n",
            "Epoch 77/200\n",
            "12/12 [==============================] - 0s 5ms/step - loss: 0.4389 - accuracy: 0.9336 - val_loss: 0.4028 - val_accuracy: 0.9333\n",
            "Epoch 78/200\n",
            "12/12 [==============================] - 0s 5ms/step - loss: 0.4021 - accuracy: 0.9254 - val_loss: 0.3995 - val_accuracy: 0.9333\n",
            "Epoch 79/200\n",
            "12/12 [==============================] - 0s 5ms/step - loss: 0.4269 - accuracy: 0.9659 - val_loss: 0.3966 - val_accuracy: 0.9667\n",
            "Epoch 80/200\n",
            "12/12 [==============================] - 0s 6ms/step - loss: 0.3941 - accuracy: 0.9290 - val_loss: 0.3932 - val_accuracy: 0.9667\n",
            "Epoch 81/200\n",
            "12/12 [==============================] - 0s 5ms/step - loss: 0.4158 - accuracy: 0.9549 - val_loss: 0.3900 - val_accuracy: 0.9667\n",
            "Epoch 82/200\n",
            "12/12 [==============================] - 0s 5ms/step - loss: 0.4159 - accuracy: 0.8989 - val_loss: 0.3870 - val_accuracy: 0.9667\n",
            "Epoch 83/200\n",
            "12/12 [==============================] - 0s 6ms/step - loss: 0.3749 - accuracy: 0.9379 - val_loss: 0.3837 - val_accuracy: 0.9667\n",
            "Epoch 84/200\n",
            "12/12 [==============================] - 0s 6ms/step - loss: 0.3965 - accuracy: 0.9715 - val_loss: 0.3813 - val_accuracy: 0.9667\n",
            "Epoch 85/200\n",
            "12/12 [==============================] - 0s 5ms/step - loss: 0.3963 - accuracy: 0.9548 - val_loss: 0.3778 - val_accuracy: 0.9667\n",
            "Epoch 86/200\n",
            "12/12 [==============================] - 0s 5ms/step - loss: 0.3963 - accuracy: 0.9518 - val_loss: 0.3744 - val_accuracy: 0.9333\n",
            "Epoch 87/200\n",
            "12/12 [==============================] - 0s 5ms/step - loss: 0.3962 - accuracy: 0.9549 - val_loss: 0.3716 - val_accuracy: 0.9667\n",
            "Epoch 88/200\n",
            "12/12 [==============================] - 0s 5ms/step - loss: 0.3774 - accuracy: 0.9620 - val_loss: 0.3692 - val_accuracy: 0.9667\n",
            "Epoch 89/200\n",
            "12/12 [==============================] - 0s 6ms/step - loss: 0.3661 - accuracy: 0.9771 - val_loss: 0.3662 - val_accuracy: 0.9667\n",
            "Epoch 90/200\n",
            "12/12 [==============================] - 0s 6ms/step - loss: 0.3772 - accuracy: 0.9604 - val_loss: 0.3634 - val_accuracy: 0.9667\n",
            "Epoch 91/200\n",
            "12/12 [==============================] - 0s 5ms/step - loss: 0.3906 - accuracy: 0.9803 - val_loss: 0.3600 - val_accuracy: 0.9667\n",
            "Epoch 92/200\n",
            "12/12 [==============================] - 0s 6ms/step - loss: 0.3810 - accuracy: 0.9827 - val_loss: 0.3574 - val_accuracy: 0.9667\n",
            "Epoch 93/200\n",
            "12/12 [==============================] - 0s 5ms/step - loss: 0.3475 - accuracy: 0.9677 - val_loss: 0.3543 - val_accuracy: 0.9667\n",
            "Epoch 94/200\n",
            "12/12 [==============================] - 0s 5ms/step - loss: 0.3476 - accuracy: 0.9795 - val_loss: 0.3515 - val_accuracy: 0.9667\n",
            "Epoch 95/200\n",
            "12/12 [==============================] - 0s 5ms/step - loss: 0.3826 - accuracy: 0.9737 - val_loss: 0.3488 - val_accuracy: 0.9667\n",
            "Epoch 96/200\n",
            "12/12 [==============================] - 0s 6ms/step - loss: 0.3544 - accuracy: 0.9629 - val_loss: 0.3463 - val_accuracy: 0.9667\n",
            "Epoch 97/200\n",
            "12/12 [==============================] - 0s 5ms/step - loss: 0.3155 - accuracy: 0.9748 - val_loss: 0.3431 - val_accuracy: 0.9667\n",
            "Epoch 98/200\n",
            "12/12 [==============================] - 0s 5ms/step - loss: 0.3567 - accuracy: 0.9745 - val_loss: 0.3409 - val_accuracy: 0.9667\n",
            "Epoch 99/200\n",
            "12/12 [==============================] - 0s 6ms/step - loss: 0.3532 - accuracy: 0.9699 - val_loss: 0.3378 - val_accuracy: 0.9667\n",
            "Epoch 100/200\n",
            "12/12 [==============================] - 0s 5ms/step - loss: 0.3535 - accuracy: 0.9656 - val_loss: 0.3353 - val_accuracy: 0.9667\n",
            "Epoch 101/200\n",
            "12/12 [==============================] - 0s 5ms/step - loss: 0.3591 - accuracy: 0.9333 - val_loss: 0.3326 - val_accuracy: 0.9667\n",
            "Epoch 102/200\n",
            "12/12 [==============================] - 0s 5ms/step - loss: 0.3323 - accuracy: 0.9765 - val_loss: 0.3299 - val_accuracy: 0.9667\n",
            "Epoch 103/200\n",
            "12/12 [==============================] - 0s 5ms/step - loss: 0.3307 - accuracy: 0.9722 - val_loss: 0.3279 - val_accuracy: 0.9667\n",
            "Epoch 104/200\n",
            "12/12 [==============================] - 0s 5ms/step - loss: 0.2961 - accuracy: 0.9802 - val_loss: 0.3248 - val_accuracy: 0.9667\n",
            "Epoch 105/200\n",
            "12/12 [==============================] - 0s 5ms/step - loss: 0.3119 - accuracy: 0.9709 - val_loss: 0.3223 - val_accuracy: 0.9667\n",
            "Epoch 106/200\n",
            "12/12 [==============================] - 0s 6ms/step - loss: 0.3412 - accuracy: 0.9474 - val_loss: 0.3198 - val_accuracy: 0.9667\n",
            "Epoch 107/200\n",
            "12/12 [==============================] - 0s 7ms/step - loss: 0.3242 - accuracy: 0.9690 - val_loss: 0.3173 - val_accuracy: 0.9667\n",
            "Epoch 108/200\n",
            "12/12 [==============================] - 0s 5ms/step - loss: 0.3613 - accuracy: 0.9393 - val_loss: 0.3150 - val_accuracy: 0.9667\n",
            "Epoch 109/200\n",
            "12/12 [==============================] - 0s 6ms/step - loss: 0.3168 - accuracy: 0.9531 - val_loss: 0.3123 - val_accuracy: 0.9667\n",
            "Epoch 110/200\n",
            "12/12 [==============================] - 0s 6ms/step - loss: 0.3398 - accuracy: 0.9684 - val_loss: 0.3097 - val_accuracy: 0.9667\n",
            "Epoch 111/200\n",
            "12/12 [==============================] - 0s 6ms/step - loss: 0.3340 - accuracy: 0.9721 - val_loss: 0.3074 - val_accuracy: 0.9667\n",
            "Epoch 112/200\n",
            "12/12 [==============================] - 0s 5ms/step - loss: 0.3268 - accuracy: 0.9490 - val_loss: 0.3049 - val_accuracy: 0.9667\n",
            "Epoch 113/200\n",
            "12/12 [==============================] - 0s 5ms/step - loss: 0.2977 - accuracy: 0.9598 - val_loss: 0.3025 - val_accuracy: 0.9667\n",
            "Epoch 114/200\n",
            "12/12 [==============================] - 0s 5ms/step - loss: 0.3075 - accuracy: 0.9471 - val_loss: 0.3003 - val_accuracy: 0.9667\n",
            "Epoch 115/200\n",
            "12/12 [==============================] - 0s 6ms/step - loss: 0.3083 - accuracy: 0.9545 - val_loss: 0.2979 - val_accuracy: 0.9667\n",
            "Epoch 116/200\n",
            "12/12 [==============================] - 0s 6ms/step - loss: 0.2915 - accuracy: 0.9594 - val_loss: 0.2956 - val_accuracy: 0.9667\n",
            "Epoch 117/200\n",
            "12/12 [==============================] - 0s 5ms/step - loss: 0.2793 - accuracy: 0.9455 - val_loss: 0.2936 - val_accuracy: 0.9333\n",
            "Epoch 118/200\n",
            "12/12 [==============================] - 0s 5ms/step - loss: 0.3019 - accuracy: 0.9012 - val_loss: 0.2909 - val_accuracy: 0.9667\n",
            "Epoch 119/200\n",
            "12/12 [==============================] - 0s 5ms/step - loss: 0.3114 - accuracy: 0.9453 - val_loss: 0.2887 - val_accuracy: 0.9667\n",
            "Epoch 120/200\n",
            "12/12 [==============================] - 0s 6ms/step - loss: 0.2791 - accuracy: 0.9714 - val_loss: 0.2867 - val_accuracy: 0.9667\n",
            "Epoch 121/200\n",
            "12/12 [==============================] - 0s 9ms/step - loss: 0.2760 - accuracy: 0.9636 - val_loss: 0.2843 - val_accuracy: 0.9667\n",
            "Epoch 122/200\n",
            "12/12 [==============================] - 0s 6ms/step - loss: 0.2898 - accuracy: 0.9604 - val_loss: 0.2826 - val_accuracy: 0.9333\n",
            "Epoch 123/200\n",
            "12/12 [==============================] - 0s 6ms/step - loss: 0.3172 - accuracy: 0.9477 - val_loss: 0.2798 - val_accuracy: 0.9667\n",
            "Epoch 124/200\n",
            "12/12 [==============================] - 0s 5ms/step - loss: 0.2759 - accuracy: 0.9652 - val_loss: 0.2776 - val_accuracy: 0.9667\n",
            "Epoch 125/200\n",
            "12/12 [==============================] - 0s 5ms/step - loss: 0.2910 - accuracy: 0.9702 - val_loss: 0.2754 - val_accuracy: 0.9667\n",
            "Epoch 126/200\n",
            "12/12 [==============================] - 0s 5ms/step - loss: 0.2604 - accuracy: 0.9580 - val_loss: 0.2734 - val_accuracy: 0.9667\n",
            "Epoch 127/200\n",
            "12/12 [==============================] - 0s 5ms/step - loss: 0.3074 - accuracy: 0.9413 - val_loss: 0.2712 - val_accuracy: 0.9667\n",
            "Epoch 128/200\n",
            "12/12 [==============================] - 0s 5ms/step - loss: 0.2385 - accuracy: 0.9783 - val_loss: 0.2691 - val_accuracy: 0.9667\n",
            "Epoch 129/200\n",
            "12/12 [==============================] - 0s 5ms/step - loss: 0.2811 - accuracy: 0.9224 - val_loss: 0.2673 - val_accuracy: 0.9667\n",
            "Epoch 130/200\n",
            "12/12 [==============================] - 0s 6ms/step - loss: 0.2634 - accuracy: 0.9404 - val_loss: 0.2651 - val_accuracy: 0.9667\n",
            "Epoch 131/200\n",
            "12/12 [==============================] - 0s 7ms/step - loss: 0.2671 - accuracy: 0.9622 - val_loss: 0.2630 - val_accuracy: 0.9667\n",
            "Epoch 132/200\n",
            "12/12 [==============================] - 0s 6ms/step - loss: 0.2809 - accuracy: 0.9432 - val_loss: 0.2611 - val_accuracy: 0.9333\n",
            "Epoch 133/200\n",
            "12/12 [==============================] - 0s 5ms/step - loss: 0.2512 - accuracy: 0.9793 - val_loss: 0.2589 - val_accuracy: 0.9667\n",
            "Epoch 134/200\n",
            "12/12 [==============================] - 0s 5ms/step - loss: 0.2736 - accuracy: 0.9510 - val_loss: 0.2570 - val_accuracy: 0.9667\n",
            "Epoch 135/200\n",
            "12/12 [==============================] - 0s 6ms/step - loss: 0.2603 - accuracy: 0.9165 - val_loss: 0.2551 - val_accuracy: 0.9667\n",
            "Epoch 136/200\n",
            "12/12 [==============================] - 0s 6ms/step - loss: 0.2469 - accuracy: 0.9595 - val_loss: 0.2534 - val_accuracy: 0.9667\n",
            "Epoch 137/200\n",
            "12/12 [==============================] - 0s 5ms/step - loss: 0.2363 - accuracy: 0.9699 - val_loss: 0.2512 - val_accuracy: 0.9667\n",
            "Epoch 138/200\n",
            "12/12 [==============================] - 0s 6ms/step - loss: 0.2555 - accuracy: 0.9661 - val_loss: 0.2494 - val_accuracy: 0.9667\n",
            "Epoch 139/200\n",
            "12/12 [==============================] - 0s 6ms/step - loss: 0.2558 - accuracy: 0.9391 - val_loss: 0.2475 - val_accuracy: 0.9667\n",
            "Epoch 140/200\n",
            "12/12 [==============================] - 0s 6ms/step - loss: 0.2393 - accuracy: 0.9725 - val_loss: 0.2456 - val_accuracy: 0.9667\n",
            "Epoch 141/200\n",
            "12/12 [==============================] - 0s 6ms/step - loss: 0.2432 - accuracy: 0.9825 - val_loss: 0.2439 - val_accuracy: 0.9667\n",
            "Epoch 142/200\n",
            "12/12 [==============================] - 0s 5ms/step - loss: 0.2691 - accuracy: 0.9696 - val_loss: 0.2420 - val_accuracy: 0.9667\n",
            "Epoch 143/200\n",
            "12/12 [==============================] - 0s 5ms/step - loss: 0.2479 - accuracy: 0.9602 - val_loss: 0.2402 - val_accuracy: 0.9667\n",
            "Epoch 144/200\n",
            "12/12 [==============================] - 0s 6ms/step - loss: 0.2578 - accuracy: 0.9490 - val_loss: 0.2385 - val_accuracy: 0.9333\n",
            "Epoch 145/200\n",
            "12/12 [==============================] - 0s 5ms/step - loss: 0.2074 - accuracy: 0.9759 - val_loss: 0.2370 - val_accuracy: 0.9667\n",
            "Epoch 146/200\n",
            "12/12 [==============================] - 0s 5ms/step - loss: 0.2344 - accuracy: 0.9660 - val_loss: 0.2350 - val_accuracy: 0.9667\n",
            "Epoch 147/200\n",
            "12/12 [==============================] - 0s 6ms/step - loss: 0.2334 - accuracy: 0.9774 - val_loss: 0.2335 - val_accuracy: 0.9667\n",
            "Epoch 148/200\n",
            "12/12 [==============================] - 0s 5ms/step - loss: 0.2205 - accuracy: 0.9814 - val_loss: 0.2316 - val_accuracy: 0.9667\n",
            "Epoch 149/200\n",
            "12/12 [==============================] - 0s 5ms/step - loss: 0.2290 - accuracy: 0.9724 - val_loss: 0.2300 - val_accuracy: 0.9667\n",
            "Epoch 150/200\n",
            "12/12 [==============================] - 0s 6ms/step - loss: 0.2212 - accuracy: 0.9794 - val_loss: 0.2283 - val_accuracy: 0.9333\n",
            "Epoch 151/200\n",
            "12/12 [==============================] - 0s 5ms/step - loss: 0.2313 - accuracy: 0.9666 - val_loss: 0.2267 - val_accuracy: 0.9667\n",
            "Epoch 152/200\n",
            "12/12 [==============================] - 0s 6ms/step - loss: 0.2166 - accuracy: 0.9774 - val_loss: 0.2252 - val_accuracy: 0.9667\n",
            "Epoch 153/200\n",
            "12/12 [==============================] - 0s 6ms/step - loss: 0.2241 - accuracy: 0.9627 - val_loss: 0.2239 - val_accuracy: 0.9667\n",
            "Epoch 154/200\n",
            "12/12 [==============================] - 0s 5ms/step - loss: 0.2309 - accuracy: 0.9532 - val_loss: 0.2219 - val_accuracy: 0.9667\n",
            "Epoch 155/200\n",
            "12/12 [==============================] - 0s 6ms/step - loss: 0.2335 - accuracy: 0.9708 - val_loss: 0.2204 - val_accuracy: 0.9333\n",
            "Epoch 156/200\n",
            "12/12 [==============================] - 0s 6ms/step - loss: 0.2359 - accuracy: 0.9521 - val_loss: 0.2189 - val_accuracy: 0.9333\n",
            "Epoch 157/200\n",
            "12/12 [==============================] - 0s 5ms/step - loss: 0.2239 - accuracy: 0.9624 - val_loss: 0.2173 - val_accuracy: 0.9667\n",
            "Epoch 158/200\n",
            "12/12 [==============================] - 0s 6ms/step - loss: 0.2201 - accuracy: 0.9674 - val_loss: 0.2161 - val_accuracy: 0.9667\n",
            "Epoch 159/200\n",
            "12/12 [==============================] - 0s 6ms/step - loss: 0.2003 - accuracy: 0.9770 - val_loss: 0.2144 - val_accuracy: 0.9667\n",
            "Epoch 160/200\n",
            "12/12 [==============================] - 0s 6ms/step - loss: 0.1834 - accuracy: 0.9865 - val_loss: 0.2133 - val_accuracy: 0.9667\n",
            "Epoch 161/200\n",
            "12/12 [==============================] - 0s 5ms/step - loss: 0.2113 - accuracy: 0.9764 - val_loss: 0.2125 - val_accuracy: 0.9667\n",
            "Epoch 162/200\n",
            "12/12 [==============================] - 0s 6ms/step - loss: 0.2314 - accuracy: 0.9617 - val_loss: 0.2104 - val_accuracy: 0.9333\n",
            "Epoch 163/200\n",
            "12/12 [==============================] - 0s 6ms/step - loss: 0.1880 - accuracy: 0.9616 - val_loss: 0.2087 - val_accuracy: 0.9333\n",
            "Epoch 164/200\n",
            "12/12 [==============================] - 0s 6ms/step - loss: 0.2316 - accuracy: 0.9601 - val_loss: 0.2074 - val_accuracy: 0.9667\n",
            "Epoch 165/200\n",
            "12/12 [==============================] - 0s 6ms/step - loss: 0.2041 - accuracy: 0.9837 - val_loss: 0.2060 - val_accuracy: 0.9667\n",
            "Epoch 166/200\n",
            "12/12 [==============================] - 0s 6ms/step - loss: 0.2231 - accuracy: 0.9636 - val_loss: 0.2048 - val_accuracy: 0.9667\n",
            "Epoch 167/200\n",
            "12/12 [==============================] - 0s 7ms/step - loss: 0.1715 - accuracy: 0.9922 - val_loss: 0.2038 - val_accuracy: 0.9667\n",
            "Epoch 168/200\n",
            "12/12 [==============================] - 0s 5ms/step - loss: 0.1964 - accuracy: 0.9468 - val_loss: 0.2022 - val_accuracy: 0.9667\n",
            "Epoch 169/200\n",
            "12/12 [==============================] - 0s 6ms/step - loss: 0.1809 - accuracy: 0.9721 - val_loss: 0.2006 - val_accuracy: 0.9333\n",
            "Epoch 170/200\n",
            "12/12 [==============================] - 0s 5ms/step - loss: 0.1942 - accuracy: 0.9696 - val_loss: 0.1994 - val_accuracy: 0.9667\n",
            "Epoch 171/200\n",
            "12/12 [==============================] - 0s 5ms/step - loss: 0.1874 - accuracy: 0.9790 - val_loss: 0.1981 - val_accuracy: 0.9667\n",
            "Epoch 172/200\n",
            "12/12 [==============================] - 0s 5ms/step - loss: 0.1809 - accuracy: 0.9842 - val_loss: 0.1968 - val_accuracy: 0.9333\n",
            "Epoch 173/200\n",
            "12/12 [==============================] - 0s 6ms/step - loss: 0.1941 - accuracy: 0.9671 - val_loss: 0.1956 - val_accuracy: 0.9667\n",
            "Epoch 174/200\n",
            "12/12 [==============================] - 0s 5ms/step - loss: 0.2101 - accuracy: 0.9453 - val_loss: 0.1947 - val_accuracy: 0.9667\n",
            "Epoch 175/200\n",
            "12/12 [==============================] - 0s 5ms/step - loss: 0.2043 - accuracy: 0.9643 - val_loss: 0.1933 - val_accuracy: 0.9667\n",
            "Epoch 176/200\n",
            "12/12 [==============================] - 0s 5ms/step - loss: 0.1592 - accuracy: 0.9839 - val_loss: 0.1927 - val_accuracy: 0.9667\n",
            "Epoch 177/200\n",
            "12/12 [==============================] - 0s 6ms/step - loss: 0.2264 - accuracy: 0.9252 - val_loss: 0.1910 - val_accuracy: 0.9333\n",
            "Epoch 178/200\n",
            "12/12 [==============================] - 0s 6ms/step - loss: 0.1800 - accuracy: 0.9839 - val_loss: 0.1898 - val_accuracy: 0.9667\n",
            "Epoch 179/200\n",
            "12/12 [==============================] - 0s 6ms/step - loss: 0.2166 - accuracy: 0.9559 - val_loss: 0.1893 - val_accuracy: 0.9667\n",
            "Epoch 180/200\n",
            "12/12 [==============================] - 0s 6ms/step - loss: 0.1877 - accuracy: 0.9779 - val_loss: 0.1875 - val_accuracy: 0.9667\n",
            "Epoch 181/200\n",
            "12/12 [==============================] - 0s 5ms/step - loss: 0.1922 - accuracy: 0.9517 - val_loss: 0.1865 - val_accuracy: 0.9333\n",
            "Epoch 182/200\n",
            "12/12 [==============================] - 0s 6ms/step - loss: 0.1890 - accuracy: 0.9870 - val_loss: 0.1861 - val_accuracy: 0.9667\n",
            "Epoch 183/200\n",
            "12/12 [==============================] - 0s 5ms/step - loss: 0.1723 - accuracy: 0.9734 - val_loss: 0.1847 - val_accuracy: 0.9667\n",
            "Epoch 184/200\n",
            "12/12 [==============================] - 0s 6ms/step - loss: 0.1624 - accuracy: 0.9948 - val_loss: 0.1831 - val_accuracy: 0.9333\n",
            "Epoch 185/200\n",
            "12/12 [==============================] - 0s 6ms/step - loss: 0.1603 - accuracy: 0.9810 - val_loss: 0.1823 - val_accuracy: 0.9333\n",
            "Epoch 186/200\n",
            "12/12 [==============================] - 0s 5ms/step - loss: 0.1675 - accuracy: 0.9650 - val_loss: 0.1812 - val_accuracy: 0.9667\n",
            "Epoch 187/200\n",
            "12/12 [==============================] - 0s 6ms/step - loss: 0.1613 - accuracy: 0.9706 - val_loss: 0.1801 - val_accuracy: 0.9667\n",
            "Epoch 188/200\n",
            "12/12 [==============================] - 0s 6ms/step - loss: 0.1857 - accuracy: 0.9699 - val_loss: 0.1790 - val_accuracy: 0.9667\n",
            "Epoch 189/200\n",
            "12/12 [==============================] - 0s 6ms/step - loss: 0.1740 - accuracy: 0.9810 - val_loss: 0.1782 - val_accuracy: 0.9667\n",
            "Epoch 190/200\n",
            "12/12 [==============================] - 0s 5ms/step - loss: 0.1687 - accuracy: 0.9605 - val_loss: 0.1774 - val_accuracy: 0.9667\n",
            "Epoch 191/200\n",
            "12/12 [==============================] - 0s 5ms/step - loss: 0.1827 - accuracy: 0.9907 - val_loss: 0.1760 - val_accuracy: 0.9667\n",
            "Epoch 192/200\n",
            "12/12 [==============================] - 0s 5ms/step - loss: 0.1721 - accuracy: 0.9838 - val_loss: 0.1751 - val_accuracy: 0.9333\n",
            "Epoch 193/200\n",
            "12/12 [==============================] - 0s 5ms/step - loss: 0.1848 - accuracy: 0.9521 - val_loss: 0.1742 - val_accuracy: 0.9667\n",
            "Epoch 194/200\n",
            "12/12 [==============================] - 0s 5ms/step - loss: 0.1619 - accuracy: 0.9807 - val_loss: 0.1736 - val_accuracy: 0.9667\n",
            "Epoch 195/200\n",
            "12/12 [==============================] - 0s 6ms/step - loss: 0.1809 - accuracy: 0.9589 - val_loss: 0.1723 - val_accuracy: 0.9667\n",
            "Epoch 196/200\n",
            "12/12 [==============================] - 0s 5ms/step - loss: 0.1702 - accuracy: 0.9775 - val_loss: 0.1714 - val_accuracy: 0.9667\n",
            "Epoch 197/200\n",
            "12/12 [==============================] - 0s 5ms/step - loss: 0.1717 - accuracy: 0.9605 - val_loss: 0.1709 - val_accuracy: 0.9667\n",
            "Epoch 198/200\n",
            "12/12 [==============================] - 0s 6ms/step - loss: 0.1631 - accuracy: 0.9788 - val_loss: 0.1697 - val_accuracy: 0.9333\n",
            "Epoch 199/200\n",
            "12/12 [==============================] - 0s 5ms/step - loss: 0.1678 - accuracy: 0.9810 - val_loss: 0.1688 - val_accuracy: 0.9667\n",
            "Epoch 200/200\n",
            "12/12 [==============================] - 0s 5ms/step - loss: 0.1725 - accuracy: 0.9755 - val_loss: 0.1680 - val_accuracy: 0.9667\n"
          ],
          "name": "stdout"
        },
        {
          "output_type": "execute_result",
          "data": {
            "text/plain": [
              "<tensorflow.python.keras.callbacks.History at 0x7f8a6e357090>"
            ]
          },
          "metadata": {
            "tags": []
          },
          "execution_count": 20
        }
      ]
    },
    {
      "cell_type": "code",
      "metadata": {
        "id": "a98GLioq30cH",
        "colab": {
          "base_uri": "https://localhost:8080/"
        },
        "outputId": "6a4aff2b-a167-408d-f264-63d979e29556"
      },
      "source": [
        "predictions_Neural = model_Neural.predict(x_test)\n",
        "print(predictions_Neural)"
      ],
      "execution_count": 21,
      "outputs": [
        {
          "output_type": "stream",
          "text": [
            "[[3.7978103e-03 8.6120403e-01 1.3499807e-01]\n",
            " [9.9060458e-01 9.3952827e-03 1.4450583e-07]\n",
            " [1.8208317e-08 8.9576542e-03 9.9104226e-01]\n",
            " [2.4461308e-03 7.2704881e-01 2.7050501e-01]\n",
            " [1.2253715e-03 7.3966378e-01 2.5911093e-01]\n",
            " [9.7954822e-01 2.0450491e-02 1.2709691e-06]\n",
            " [2.7865594e-02 9.0389848e-01 6.8235897e-02]\n",
            " [1.3215315e-05 9.2098005e-02 9.0788877e-01]\n",
            " [1.6458027e-04 2.6622134e-01 7.3361403e-01]\n",
            " [1.3088387e-02 8.9236885e-01 9.4542705e-02]\n",
            " [1.5347372e-04 3.1083828e-01 6.8900824e-01]\n",
            " [9.8482972e-01 1.5169456e-02 7.9123089e-07]\n",
            " [9.9232930e-01 7.6705911e-03 1.3143298e-07]\n",
            " [9.8531473e-01 1.4684730e-02 6.2639901e-07]\n",
            " [9.9126148e-01 8.7383799e-03 1.5337713e-07]\n",
            " [3.3907248e-03 8.1800956e-01 1.7859966e-01]\n",
            " [2.9860960e-06 5.5400878e-02 9.4459617e-01]\n",
            " [1.1565516e-02 8.7988830e-01 1.0854624e-01]\n",
            " [4.2946162e-03 8.1661266e-01 1.7909271e-01]\n",
            " [1.8810114e-06 3.8531657e-02 9.6146643e-01]\n",
            " [9.8284572e-01 1.7153325e-02 9.8265537e-07]\n",
            " [3.5872468e-04 4.0652922e-01 5.9311205e-01]\n",
            " [9.7884524e-01 2.1153195e-02 1.5685443e-06]\n",
            " [3.7927787e-06 5.8124453e-02 9.4187170e-01]\n",
            " [6.9836431e-05 4.8660558e-01 5.1332456e-01]\n",
            " [6.5926401e-06 6.4161398e-02 9.3583196e-01]\n",
            " [4.0092254e-06 7.9774275e-02 9.2022175e-01]\n",
            " [2.9493838e-06 5.9898321e-02 9.4009870e-01]\n",
            " [9.7321320e-01 2.6783457e-02 3.3125789e-06]\n",
            " [9.7773176e-01 2.2266587e-02 1.6363542e-06]]\n"
          ],
          "name": "stdout"
        }
      ]
    }
  ]
}