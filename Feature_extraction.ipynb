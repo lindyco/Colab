{
  "nbformat": 4,
  "nbformat_minor": 0,
  "metadata": {
    "colab": {
      "name": "Feature extraction.ipynb",
      "provenance": [],
      "authorship_tag": "ABX9TyPUpl+qBRG1w/Z1T4SLHVYX",
      "include_colab_link": true
    },
    "kernelspec": {
      "name": "python3",
      "display_name": "Python 3"
    },
    "language_info": {
      "name": "python"
    }
  },
  "cells": [
    {
      "cell_type": "markdown",
      "metadata": {
        "id": "view-in-github",
        "colab_type": "text"
      },
      "source": [
        "<a href=\"https://colab.research.google.com/github/lindyco/Colab/blob/main/Feature_extraction.ipynb\" target=\"_parent\"><img src=\"https://colab.research.google.com/assets/colab-badge.svg\" alt=\"Open In Colab\"/></a>"
      ]
    },
    {
      "cell_type": "markdown",
      "metadata": {
        "id": "lrdmy0FjNKBA"
      },
      "source": [
        "This program is to extract the features from the website and use classification to predict the page number of contents. "
      ]
    },
    {
      "cell_type": "code",
      "metadata": {
        "id": "6ORd-2dyUNGn"
      },
      "source": [
        "from bs4 import BeautifulSoup as bs\n",
        "import urllib.request as req\n",
        "import pandas as pd\n",
        "from sklearn.model_selection import train_test_split\n",
        "from sklearn.metrics import classification_report\n",
        "from sklearn.metrics import accuracy_score"
      ],
      "execution_count": 1,
      "outputs": []
    },
    {
      "cell_type": "code",
      "metadata": {
        "id": "UtPzgTfla8bl"
      },
      "source": [
        "# Import the data from the web page\n",
        "\n",
        "url1='http://quotes.toscrape.com/page/1/'\n",
        "url2='http://quotes.toscrape.com/page/2/'\n",
        "url3='http://quotes.toscrape.com/page/3/'\n",
        "\n",
        "sourcedata1 = req.urlopen(url1)\n",
        "soup1=bs(sourcedata1,\"html.parser\")\n",
        "\n",
        "sourcedata2 = req.urlopen(url2)\n",
        "soup2=bs(sourcedata2,\"html.parser\")\n",
        "\n",
        "sourcedata3 = req.urlopen(url3)\n",
        "soup3=bs(sourcedata3,\"html.parser\")"
      ],
      "execution_count": 2,
      "outputs": []
    },
    {
      "cell_type": "code",
      "metadata": {
        "colab": {
          "base_uri": "https://localhost:8080/"
        },
        "id": "RtpgouT9a-90",
        "outputId": "2c52f2b4-1b7d-4ce3-fc3f-086cd02f0ee3"
      },
      "source": [
        "# Get all the quotes from each page\n",
        "\n",
        "quotes = soup1.find_all(\"span\",{\"class\":\"text\"}) + soup2.find_all(\"span\",{\"class\":\"text\"}) + soup3.find_all(\"span\",{\"class\":\"text\"})\n",
        "length = len(quotes)\n",
        "length"
      ],
      "execution_count": 3,
      "outputs": [
        {
          "output_type": "execute_result",
          "data": {
            "text/plain": [
              "30"
            ]
          },
          "metadata": {
            "tags": []
          },
          "execution_count": 3
        }
      ]
    },
    {
      "cell_type": "code",
      "metadata": {
        "colab": {
          "base_uri": "https://localhost:8080/"
        },
        "id": "iX64p654bCc5",
        "outputId": "7a4f8fdf-5e60-4072-df15-fab565e61bf9"
      },
      "source": [
        "content1 = []\n",
        "for each in quotes:\n",
        "    txt = each.text.strip()\n",
        "    content1.append(txt)\n",
        "    \n",
        "content1"
      ],
      "execution_count": 4,
      "outputs": [
        {
          "output_type": "execute_result",
          "data": {
            "text/plain": [
              "['“The world as we have created it is a process of our thinking. It cannot be changed without changing our thinking.”',\n",
              " '“It is our choices, Harry, that show what we truly are, far more than our abilities.”',\n",
              " '“There are only two ways to live your life. One is as though nothing is a miracle. The other is as though everything is a miracle.”',\n",
              " '“The person, be it gentleman or lady, who has not pleasure in a good novel, must be intolerably stupid.”',\n",
              " \"“Imperfection is beauty, madness is genius and it's better to be absolutely ridiculous than absolutely boring.”\",\n",
              " '“Try not to become a man of success. Rather become a man of value.”',\n",
              " '“It is better to be hated for what you are than to be loved for what you are not.”',\n",
              " \"“I have not failed. I've just found 10,000 ways that won't work.”\",\n",
              " \"“A woman is like a tea bag; you never know how strong it is until it's in hot water.”\",\n",
              " '“A day without sunshine is like, you know, night.”',\n",
              " \"“This life is what you make it. No matter what, you're going to mess up sometimes, it's a universal truth. But the good part is you get to decide how you're going to mess it up. Girls will be your friends - they'll act like it anyway. But just remember, some come, some go. The ones that stay with you through everything - they're your true best friends. Don't let go of them. Also remember, sisters make the best friends in the world. As for lovers, well, they'll come and go too. And baby, I hate to say it, most of them - actually pretty much all of them are going to break your heart, but you can't give up because if you give up, you'll never find your soulmate. You'll never find that half who makes you whole and that goes for everything. Just because you fail once, doesn't mean you're gonna fail at everything. Keep trying, hold on, and always, always, always believe in yourself, because if you don't, then who will, sweetie? So keep your head high, keep your chin up, and most importantly, keep smiling, because life's a beautiful thing and there's so much to smile about.”\",\n",
              " '“It takes a great deal of bravery to stand up to our enemies, but just as much to stand up to our friends.”',\n",
              " \"“If you can't explain it to a six year old, you don't understand it yourself.”\",\n",
              " \"“You may not be her first, her last, or her only. She loved before she may love again. But if she loves you now, what else matters? She's not perfect—you aren't either, and the two of you may never be perfect together but if she can make you laugh, cause you to think twice, and admit to being human and making mistakes, hold onto her and give her the most you can. She may not be thinking about you every second of the day, but she will give you a part of her that she knows you can break—her heart. So don't hurt her, don't change her, don't analyze and don't expect more than she can give. Smile when she makes you happy, let her know when she makes you mad, and miss her when she's not there.”\",\n",
              " '“I like nonsense, it wakes up the brain cells. Fantasy is a necessary ingredient in living.”',\n",
              " '“I may not have gone where I intended to go, but I think I have ended up where I needed to be.”',\n",
              " \"“The opposite of love is not hate, it's indifference. The opposite of art is not ugliness, it's indifference. The opposite of faith is not heresy, it's indifference. And the opposite of life is not death, it's indifference.”\",\n",
              " '“It is not a lack of love, but a lack of friendship that makes unhappy marriages.”',\n",
              " '“Good friends, good books, and a sleepy conscience: this is the ideal life.”',\n",
              " '“Life is what happens to us while we are making other plans.”',\n",
              " '“I love you without knowing how, or when, or from where. I love you simply, without problems or pride: I love you in this way because I do not know any other way of loving but this, in which there is no I or you, so intimate that your hand upon my chest is my hand, so intimate that when I fall asleep your eyes close.”',\n",
              " '“For every minute you are angry you lose sixty seconds of happiness.”',\n",
              " '“If you judge people, you have no time to love them.”',\n",
              " '“Anyone who thinks sitting in church can make you a Christian must also think that sitting in a garage can make you a car.”',\n",
              " '“Beauty is in the eye of the beholder and it may be necessary from time to time to give a stupid or misinformed beholder a black eye.”',\n",
              " '“Today you are You, that is truer than true. There is no one alive who is Youer than You.”',\n",
              " '“If you want your children to be intelligent, read them fairy tales. If you want them to be more intelligent, read them more fairy tales.”',\n",
              " '“It is impossible to live without failing at something, unless you live so cautiously that you might as well not have lived at all - in which case, you fail by default.”',\n",
              " '“Logic will get you from A to Z; imagination will get you everywhere.”',\n",
              " '“One good thing about music, when it hits you, you feel no pain.”']"
            ]
          },
          "metadata": {
            "tags": []
          },
          "execution_count": 4
        }
      ]
    },
    {
      "cell_type": "code",
      "metadata": {
        "colab": {
          "base_uri": "https://localhost:8080/"
        },
        "id": "RbJHxOprbFAW",
        "outputId": "17dab55a-b59c-4e6a-9915-4a8f027912e7"
      },
      "source": [
        "# Get all the authors from each page\n",
        "\n",
        "authors = soup1.find_all(\"small\",{\"class\": \"author\"}) + soup2.find_all(\"small\",{\"class\": \"author\"}) + soup3.find_all(\"small\",{\"class\": \"author\"})\n",
        "content2 = []\n",
        "for each in authors:\n",
        "    txt = each.text.strip()\n",
        "    content2.append(txt)\n",
        "content2"
      ],
      "execution_count": 5,
      "outputs": [
        {
          "output_type": "execute_result",
          "data": {
            "text/plain": [
              "['Albert Einstein',\n",
              " 'J.K. Rowling',\n",
              " 'Albert Einstein',\n",
              " 'Jane Austen',\n",
              " 'Marilyn Monroe',\n",
              " 'Albert Einstein',\n",
              " 'André Gide',\n",
              " 'Thomas A. Edison',\n",
              " 'Eleanor Roosevelt',\n",
              " 'Steve Martin',\n",
              " 'Marilyn Monroe',\n",
              " 'J.K. Rowling',\n",
              " 'Albert Einstein',\n",
              " 'Bob Marley',\n",
              " 'Dr. Seuss',\n",
              " 'Douglas Adams',\n",
              " 'Elie Wiesel',\n",
              " 'Friedrich Nietzsche',\n",
              " 'Mark Twain',\n",
              " 'Allen Saunders',\n",
              " 'Pablo Neruda',\n",
              " 'Ralph Waldo Emerson',\n",
              " 'Mother Teresa',\n",
              " 'Garrison Keillor',\n",
              " 'Jim Henson',\n",
              " 'Dr. Seuss',\n",
              " 'Albert Einstein',\n",
              " 'J.K. Rowling',\n",
              " 'Albert Einstein',\n",
              " 'Bob Marley']"
            ]
          },
          "metadata": {
            "tags": []
          },
          "execution_count": 5
        }
      ]
    },
    {
      "cell_type": "code",
      "metadata": {
        "colab": {
          "base_uri": "https://localhost:8080/"
        },
        "id": "xbOchglXHPPk",
        "outputId": "6522ed2a-ee6b-4cc5-a02e-eee8bf193efa"
      },
      "source": [
        "#Assign the page to base on the index\n",
        "\n",
        "content3 = []\n",
        "for num in range(length):\n",
        "  if(0 <= num <= 10):\n",
        "    content3.append(\"page1\")\n",
        "  if(10 < num <= 20):\n",
        "    content3.append(\"page2\")\n",
        "  if(20 < num <= 30):\n",
        "    content3.append(\"page3\")\n",
        "content3"
      ],
      "execution_count": 6,
      "outputs": [
        {
          "output_type": "execute_result",
          "data": {
            "text/plain": [
              "['page1',\n",
              " 'page1',\n",
              " 'page1',\n",
              " 'page1',\n",
              " 'page1',\n",
              " 'page1',\n",
              " 'page1',\n",
              " 'page1',\n",
              " 'page1',\n",
              " 'page1',\n",
              " 'page1',\n",
              " 'page2',\n",
              " 'page2',\n",
              " 'page2',\n",
              " 'page2',\n",
              " 'page2',\n",
              " 'page2',\n",
              " 'page2',\n",
              " 'page2',\n",
              " 'page2',\n",
              " 'page2',\n",
              " 'page3',\n",
              " 'page3',\n",
              " 'page3',\n",
              " 'page3',\n",
              " 'page3',\n",
              " 'page3',\n",
              " 'page3',\n",
              " 'page3',\n",
              " 'page3']"
            ]
          },
          "metadata": {
            "tags": []
          },
          "execution_count": 6
        }
      ]
    },
    {
      "cell_type": "code",
      "metadata": {
        "colab": {
          "base_uri": "https://localhost:8080/",
          "height": 979
        },
        "id": "Xnqlo_vEbHqW",
        "outputId": "376afc49-e388-49a3-ce73-5095c6125a25"
      },
      "source": [
        "#Build up data frame to store the collected data\n",
        "df = pd.DataFrame(data = {'Quote':content1, 'Author':content2, 'Page':content3})\n",
        "\n",
        "df"
      ],
      "execution_count": 7,
      "outputs": [
        {
          "output_type": "execute_result",
          "data": {
            "text/html": [
              "<div>\n",
              "<style scoped>\n",
              "    .dataframe tbody tr th:only-of-type {\n",
              "        vertical-align: middle;\n",
              "    }\n",
              "\n",
              "    .dataframe tbody tr th {\n",
              "        vertical-align: top;\n",
              "    }\n",
              "\n",
              "    .dataframe thead th {\n",
              "        text-align: right;\n",
              "    }\n",
              "</style>\n",
              "<table border=\"1\" class=\"dataframe\">\n",
              "  <thead>\n",
              "    <tr style=\"text-align: right;\">\n",
              "      <th></th>\n",
              "      <th>Quote</th>\n",
              "      <th>Author</th>\n",
              "      <th>Page</th>\n",
              "    </tr>\n",
              "  </thead>\n",
              "  <tbody>\n",
              "    <tr>\n",
              "      <th>0</th>\n",
              "      <td>“The world as we have created it is a process ...</td>\n",
              "      <td>Albert Einstein</td>\n",
              "      <td>page1</td>\n",
              "    </tr>\n",
              "    <tr>\n",
              "      <th>1</th>\n",
              "      <td>“It is our choices, Harry, that show what we t...</td>\n",
              "      <td>J.K. Rowling</td>\n",
              "      <td>page1</td>\n",
              "    </tr>\n",
              "    <tr>\n",
              "      <th>2</th>\n",
              "      <td>“There are only two ways to live your life. On...</td>\n",
              "      <td>Albert Einstein</td>\n",
              "      <td>page1</td>\n",
              "    </tr>\n",
              "    <tr>\n",
              "      <th>3</th>\n",
              "      <td>“The person, be it gentleman or lady, who has ...</td>\n",
              "      <td>Jane Austen</td>\n",
              "      <td>page1</td>\n",
              "    </tr>\n",
              "    <tr>\n",
              "      <th>4</th>\n",
              "      <td>“Imperfection is beauty, madness is genius and...</td>\n",
              "      <td>Marilyn Monroe</td>\n",
              "      <td>page1</td>\n",
              "    </tr>\n",
              "    <tr>\n",
              "      <th>5</th>\n",
              "      <td>“Try not to become a man of success. Rather be...</td>\n",
              "      <td>Albert Einstein</td>\n",
              "      <td>page1</td>\n",
              "    </tr>\n",
              "    <tr>\n",
              "      <th>6</th>\n",
              "      <td>“It is better to be hated for what you are tha...</td>\n",
              "      <td>André Gide</td>\n",
              "      <td>page1</td>\n",
              "    </tr>\n",
              "    <tr>\n",
              "      <th>7</th>\n",
              "      <td>“I have not failed. I've just found 10,000 way...</td>\n",
              "      <td>Thomas A. Edison</td>\n",
              "      <td>page1</td>\n",
              "    </tr>\n",
              "    <tr>\n",
              "      <th>8</th>\n",
              "      <td>“A woman is like a tea bag; you never know how...</td>\n",
              "      <td>Eleanor Roosevelt</td>\n",
              "      <td>page1</td>\n",
              "    </tr>\n",
              "    <tr>\n",
              "      <th>9</th>\n",
              "      <td>“A day without sunshine is like, you know, nig...</td>\n",
              "      <td>Steve Martin</td>\n",
              "      <td>page1</td>\n",
              "    </tr>\n",
              "    <tr>\n",
              "      <th>10</th>\n",
              "      <td>“This life is what you make it. No matter what...</td>\n",
              "      <td>Marilyn Monroe</td>\n",
              "      <td>page1</td>\n",
              "    </tr>\n",
              "    <tr>\n",
              "      <th>11</th>\n",
              "      <td>“It takes a great deal of bravery to stand up ...</td>\n",
              "      <td>J.K. Rowling</td>\n",
              "      <td>page2</td>\n",
              "    </tr>\n",
              "    <tr>\n",
              "      <th>12</th>\n",
              "      <td>“If you can't explain it to a six year old, yo...</td>\n",
              "      <td>Albert Einstein</td>\n",
              "      <td>page2</td>\n",
              "    </tr>\n",
              "    <tr>\n",
              "      <th>13</th>\n",
              "      <td>“You may not be her first, her last, or her on...</td>\n",
              "      <td>Bob Marley</td>\n",
              "      <td>page2</td>\n",
              "    </tr>\n",
              "    <tr>\n",
              "      <th>14</th>\n",
              "      <td>“I like nonsense, it wakes up the brain cells....</td>\n",
              "      <td>Dr. Seuss</td>\n",
              "      <td>page2</td>\n",
              "    </tr>\n",
              "    <tr>\n",
              "      <th>15</th>\n",
              "      <td>“I may not have gone where I intended to go, b...</td>\n",
              "      <td>Douglas Adams</td>\n",
              "      <td>page2</td>\n",
              "    </tr>\n",
              "    <tr>\n",
              "      <th>16</th>\n",
              "      <td>“The opposite of love is not hate, it's indiff...</td>\n",
              "      <td>Elie Wiesel</td>\n",
              "      <td>page2</td>\n",
              "    </tr>\n",
              "    <tr>\n",
              "      <th>17</th>\n",
              "      <td>“It is not a lack of love, but a lack of frien...</td>\n",
              "      <td>Friedrich Nietzsche</td>\n",
              "      <td>page2</td>\n",
              "    </tr>\n",
              "    <tr>\n",
              "      <th>18</th>\n",
              "      <td>“Good friends, good books, and a sleepy consci...</td>\n",
              "      <td>Mark Twain</td>\n",
              "      <td>page2</td>\n",
              "    </tr>\n",
              "    <tr>\n",
              "      <th>19</th>\n",
              "      <td>“Life is what happens to us while we are makin...</td>\n",
              "      <td>Allen Saunders</td>\n",
              "      <td>page2</td>\n",
              "    </tr>\n",
              "    <tr>\n",
              "      <th>20</th>\n",
              "      <td>“I love you without knowing how, or when, or f...</td>\n",
              "      <td>Pablo Neruda</td>\n",
              "      <td>page2</td>\n",
              "    </tr>\n",
              "    <tr>\n",
              "      <th>21</th>\n",
              "      <td>“For every minute you are angry you lose sixty...</td>\n",
              "      <td>Ralph Waldo Emerson</td>\n",
              "      <td>page3</td>\n",
              "    </tr>\n",
              "    <tr>\n",
              "      <th>22</th>\n",
              "      <td>“If you judge people, you have no time to love...</td>\n",
              "      <td>Mother Teresa</td>\n",
              "      <td>page3</td>\n",
              "    </tr>\n",
              "    <tr>\n",
              "      <th>23</th>\n",
              "      <td>“Anyone who thinks sitting in church can make ...</td>\n",
              "      <td>Garrison Keillor</td>\n",
              "      <td>page3</td>\n",
              "    </tr>\n",
              "    <tr>\n",
              "      <th>24</th>\n",
              "      <td>“Beauty is in the eye of the beholder and it m...</td>\n",
              "      <td>Jim Henson</td>\n",
              "      <td>page3</td>\n",
              "    </tr>\n",
              "    <tr>\n",
              "      <th>25</th>\n",
              "      <td>“Today you are You, that is truer than true. T...</td>\n",
              "      <td>Dr. Seuss</td>\n",
              "      <td>page3</td>\n",
              "    </tr>\n",
              "    <tr>\n",
              "      <th>26</th>\n",
              "      <td>“If you want your children to be intelligent, ...</td>\n",
              "      <td>Albert Einstein</td>\n",
              "      <td>page3</td>\n",
              "    </tr>\n",
              "    <tr>\n",
              "      <th>27</th>\n",
              "      <td>“It is impossible to live without failing at s...</td>\n",
              "      <td>J.K. Rowling</td>\n",
              "      <td>page3</td>\n",
              "    </tr>\n",
              "    <tr>\n",
              "      <th>28</th>\n",
              "      <td>“Logic will get you from A to Z; imagination w...</td>\n",
              "      <td>Albert Einstein</td>\n",
              "      <td>page3</td>\n",
              "    </tr>\n",
              "    <tr>\n",
              "      <th>29</th>\n",
              "      <td>“One good thing about music, when it hits you,...</td>\n",
              "      <td>Bob Marley</td>\n",
              "      <td>page3</td>\n",
              "    </tr>\n",
              "  </tbody>\n",
              "</table>\n",
              "</div>"
            ],
            "text/plain": [
              "                                                Quote  ...   Page\n",
              "0   “The world as we have created it is a process ...  ...  page1\n",
              "1   “It is our choices, Harry, that show what we t...  ...  page1\n",
              "2   “There are only two ways to live your life. On...  ...  page1\n",
              "3   “The person, be it gentleman or lady, who has ...  ...  page1\n",
              "4   “Imperfection is beauty, madness is genius and...  ...  page1\n",
              "5   “Try not to become a man of success. Rather be...  ...  page1\n",
              "6   “It is better to be hated for what you are tha...  ...  page1\n",
              "7   “I have not failed. I've just found 10,000 way...  ...  page1\n",
              "8   “A woman is like a tea bag; you never know how...  ...  page1\n",
              "9   “A day without sunshine is like, you know, nig...  ...  page1\n",
              "10  “This life is what you make it. No matter what...  ...  page1\n",
              "11  “It takes a great deal of bravery to stand up ...  ...  page2\n",
              "12  “If you can't explain it to a six year old, yo...  ...  page2\n",
              "13  “You may not be her first, her last, or her on...  ...  page2\n",
              "14  “I like nonsense, it wakes up the brain cells....  ...  page2\n",
              "15  “I may not have gone where I intended to go, b...  ...  page2\n",
              "16  “The opposite of love is not hate, it's indiff...  ...  page2\n",
              "17  “It is not a lack of love, but a lack of frien...  ...  page2\n",
              "18  “Good friends, good books, and a sleepy consci...  ...  page2\n",
              "19  “Life is what happens to us while we are makin...  ...  page2\n",
              "20  “I love you without knowing how, or when, or f...  ...  page2\n",
              "21  “For every minute you are angry you lose sixty...  ...  page3\n",
              "22  “If you judge people, you have no time to love...  ...  page3\n",
              "23  “Anyone who thinks sitting in church can make ...  ...  page3\n",
              "24  “Beauty is in the eye of the beholder and it m...  ...  page3\n",
              "25  “Today you are You, that is truer than true. T...  ...  page3\n",
              "26  “If you want your children to be intelligent, ...  ...  page3\n",
              "27  “It is impossible to live without failing at s...  ...  page3\n",
              "28  “Logic will get you from A to Z; imagination w...  ...  page3\n",
              "29  “One good thing about music, when it hits you,...  ...  page3\n",
              "\n",
              "[30 rows x 3 columns]"
            ]
          },
          "metadata": {
            "tags": []
          },
          "execution_count": 7
        }
      ]
    },
    {
      "cell_type": "code",
      "metadata": {
        "colab": {
          "base_uri": "https://localhost:8080/",
          "height": 164
        },
        "id": "5LydfJ5oMY2p",
        "outputId": "7770f8ba-91fe-4054-bde8-f2901eb1b3da"
      },
      "source": [
        "#Build up the model to train data and test data, I set 80% data to training and 20% to testing\n",
        "\n",
        "x_train, x_test, y_train, y_test = train_test_split(X,y, test_size=0.2, random_state=42)"
      ],
      "execution_count": 28,
      "outputs": [
        {
          "output_type": "error",
          "ename": "NameError",
          "evalue": "ignored",
          "traceback": [
            "\u001b[0;31m---------------------------------------------------------------------------\u001b[0m",
            "\u001b[0;31mNameError\u001b[0m                                 Traceback (most recent call last)",
            "\u001b[0;32m<ipython-input-28-2a69f443c971>\u001b[0m in \u001b[0;36m<module>\u001b[0;34m()\u001b[0m\n\u001b[0;32m----> 1\u001b[0;31m \u001b[0mx_train\u001b[0m\u001b[0;34m,\u001b[0m \u001b[0mx_test\u001b[0m\u001b[0;34m,\u001b[0m \u001b[0my_train\u001b[0m\u001b[0;34m,\u001b[0m \u001b[0my_test\u001b[0m \u001b[0;34m=\u001b[0m \u001b[0mtrain_test_split\u001b[0m\u001b[0;34m(\u001b[0m\u001b[0mX\u001b[0m\u001b[0;34m,\u001b[0m\u001b[0my\u001b[0m\u001b[0;34m,\u001b[0m \u001b[0mtest_size\u001b[0m\u001b[0;34m=\u001b[0m\u001b[0;36m0.2\u001b[0m\u001b[0;34m,\u001b[0m \u001b[0mrandom_state\u001b[0m\u001b[0;34m=\u001b[0m\u001b[0;36m42\u001b[0m\u001b[0;34m)\u001b[0m\u001b[0;34m\u001b[0m\u001b[0;34m\u001b[0m\u001b[0m\n\u001b[0m",
            "\u001b[0;31mNameError\u001b[0m: name 'X' is not defined"
          ]
        }
      ]
    }
  ]
}